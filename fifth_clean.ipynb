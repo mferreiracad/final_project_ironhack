{
 "cells": [
  {
   "cell_type": "code",
   "execution_count": null,
   "id": "f89462ef",
   "metadata": {},
   "outputs": [],
   "source": [
    "import pandas as pd\n",
    "pd.set_option('display.max_columns', 500)"
   ]
  },
  {
   "cell_type": "code",
   "execution_count": null,
   "id": "bd6b51ab",
   "metadata": {},
   "outputs": [],
   "source": [
    "data = pd.read_csv('data_100.csv')"
   ]
  },
  {
   "cell_type": "code",
   "execution_count": null,
   "id": "e38a5b68",
   "metadata": {},
   "outputs": [],
   "source": [
    "data.columns"
   ]
  },
  {
   "cell_type": "code",
   "execution_count": null,
   "id": "25ce4238",
   "metadata": {},
   "outputs": [],
   "source": [
    "gae1 = data[data['Question_q']=='A.E.1']\n",
    "gae2 = data[data['Question_q']=='G.C.2']\n",
    "#gae11 = data[data['Question_q']=='G.A.11']\n",
    "#gae16 = data[data['Question_q']=='G.A.16']"
   ]
  },
  {
   "cell_type": "code",
   "execution_count": null,
   "id": "3c4bb979",
   "metadata": {},
   "outputs": [],
   "source": [
    "gae1"
   ]
  },
  {
   "cell_type": "code",
   "execution_count": null,
   "id": "1baf601c",
   "metadata": {},
   "outputs": [],
   "source": [
    "gae1.C_Partic.tolist\n",
    "    print(x)"
   ]
  },
  {
   "cell_type": "code",
   "execution_count": null,
   "id": "633aa09c",
   "metadata": {},
   "outputs": [],
   "source": [
    "career_portal = pd.read_csv('career_portal.csv')\n",
    "career_portal =  dict(zip(career_portal.x_part, career_portal.career_portal))\n",
    "data['Career_portal'] = data['C_Partic'].map(career_portal)"
   ]
  },
  {
   "cell_type": "code",
   "execution_count": null,
   "id": "6c2f3bf9",
   "metadata": {},
   "outputs": [],
   "source": [
    "data.drop('Career_portal',axis=1, inplace=True)"
   ]
  },
  {
   "cell_type": "code",
   "execution_count": null,
   "id": "d887f1ef",
   "metadata": {},
   "outputs": [],
   "source": [
    "for x in data.CASESAFE_ANSWER_ID__C:\n",
    "    print(x)"
   ]
  },
  {
   "cell_type": "code",
   "execution_count": null,
   "id": "283d1cea",
   "metadata": {},
   "outputs": [],
   "source": [
    "data.to_csv('data_100.csv',index=False)"
   ]
  },
  {
   "cell_type": "code",
   "execution_count": null,
   "id": "34bd8fbb",
   "metadata": {},
   "outputs": [],
   "source": [
    "tec_list_q= [\"S.L.4\",\n",
    "\"S.L.21\",\n",
    "\"Sh.D.1\",\n",
    "\"Sh.D.2\",\n",
    "\"Sh.D.3\",\n",
    "\"Sh.D.4\",\n",
    "\"Sh.D.5\",\n",
    "\"Sh.D.6\",\n",
    "\"Sh.D.7\",\n",
    "\"Sh.D.9\",\n",
    "\"Sh.D.10\",\n",
    "\"Sh.D.11\",\n",
    "\"Sh.D.12\",\n",
    "\"Sh.D.13\",\n",
    "\"Sh.D.14\",\n",
    "\"Sh.D.15\",\n",
    "\"Sh.D.16\",\n",
    "\"Sh.D.17\",\n",
    "\"Sh.D.18\",\n",
    "\"Sh.D.19\",\n",
    "\"Sh.D.20\",\n",
    "\"Sh.D.21\",\n",
    "\"Sh.D.23\",\n",
    "\"Sh.D.24\",\n",
    "\"Sh.D.25\",\n",
    "\"Sh.D.26\",\n",
    "\"Sh.W.4\",\n",
    "\"Sh.W.7\",\n",
    "\"Sh.W.8\",\n",
    "\"Sh.W.10\",\n",
    "\"Sh.W.13\",\n",
    "\"Sh.W.15\",\n",
    "\"Sh.W.18\",\n",
    "\"Sh.W.19\",\n",
    "\"Sh.W.23\",\n",
    "\"Sh.W.24\",\n",
    "\"Sh.W.25\",\n",
    "\"Sh.W.26\",\n",
    "\"A.E.1\",\n",
    "\"A.E.5\",\n",
    "\"A.E.13\",\n",
    "\"A.E.14\",\n",
    "\"A.E.18\",\n",
    "\"A.E.26\",\n",
    "\"A.T.2\",\n",
    "\"A.T.7\",\n",
    "\"A.T.8\",\n",
    "\"A.T.13\",\n",
    "\"A.T.14\",\n",
    "\"A.T.17\",\n",
    "\"A.T.26\",\n",
    "\"A.T.30\",\n",
    "\"A.T.32\",\n",
    "\"A.T.34\",\n",
    "\"A.T.35\",\n",
    "\"A.T.52\",\n",
    "\"A.O.1\",\n",
    "\"A.O.5\",\n",
    "\"A.O.14\",\n",
    "\"A.O.17\",\n",
    "\"A.O.23\",\n",
    "\"A.O.26\",\n",
    "\"A.O.29\",\n",
    "\"A.O.38\",\n",
    "\"A.O.41\",\n",
    "\"A.O.47\",\n",
    "\"A.O.56\",\n",
    "\"A.O.62\",\n",
    "\"A.O.65\",\n",
    "\"A.O.68\",\n",
    "\"D.P.3\",\n",
    "\"D.P.20\",\n",
    "\"D.P.25\",\n",
    "\"D.P.26\",\n",
    "\"D.P.54\",\n",
    "\"D.P.58\",\n",
    "\"D.P.66\",\n",
    "\"D.P.68\",\n",
    "\"D.P.71\",\n",
    "\"D.P.79\",\n",
    "\"D.C.8\",\n",
    "\"D.C.16\",\n",
    "\"D.C.38\",\n",
    "\"D.C.51\",\n",
    "\"D.C.54\",\n",
    "\"D.L.2\",\n",
    "\"D.L.9\",\n",
    "\"D.L.15\",\n",
    "\"D.L.17\",\n",
    "\"D.L.21\",\n",
    "\"D.L.22\",\n",
    "\"D.L.24\",\n",
    "\"D.L.28\",\n",
    "\"D.L.34\",\n",
    "\"D.L.40\",\n",
    "\"D.L.42\",\n",
    "\"D.L.43\",\n",
    "\"D.L.53\",\n",
    "\"D.L.54\",\n",
    "\"E.W.15\",\n",
    "\"E.W.41\",\n",
    "\"E.W.49\",\n",
    "\"E.R.7\",\n",
    "\"E.R.11\",\n",
    "\"E.R.13\",\n",
    "\"E.R.15\",\n",
    "\"E.R.37\",\n",
    "\"E.R.43\",\n",
    "\"E.R.44\",\n",
    "\"E.R.47\",\n",
    "\"E.R.69\",\n",
    "\"E.O.1\",\n",
    "\"U.V.1\",\n",
    "\"U.S.21\"]"
   ]
  },
  {
   "cell_type": "code",
   "execution_count": null,
   "id": "78cf71b1",
   "metadata": {},
   "outputs": [],
   "source": [
    "for x in tec_list_q:\n",
    "    print(f'(data[\"Question_q\"]== \"{x}\") |')"
   ]
  },
  {
   "cell_type": "code",
   "execution_count": null,
   "id": "eabf8668",
   "metadata": {},
   "outputs": [],
   "source": [
    "tec = data[(data[\"Question_q\"]== \"S.L.4\") |\n",
    "(data[\"Question_q\"]== \"S.L.21\") |\n",
    "(data[\"Question_q\"]== \"Sh.D.1\") |\n",
    "(data[\"Question_q\"]== \"Sh.D.2\") |\n",
    "(data[\"Question_q\"]== \"Sh.D.3\") |\n",
    "(data[\"Question_q\"]== \"Sh.D.4\") |\n",
    "(data[\"Question_q\"]== \"Sh.D.5\") |\n",
    "(data[\"Question_q\"]== \"Sh.D.6\") |\n",
    "(data[\"Question_q\"]== \"Sh.D.7\") |\n",
    "(data[\"Question_q\"]== \"Sh.D.9\") |\n",
    "(data[\"Question_q\"]== \"Sh.D.10\") |\n",
    "(data[\"Question_q\"]== \"Sh.D.11\") |\n",
    "(data[\"Question_q\"]== \"Sh.D.12\") |\n",
    "(data[\"Question_q\"]== \"Sh.D.13\") |\n",
    "(data[\"Question_q\"]== \"Sh.D.14\") |\n",
    "(data[\"Question_q\"]== \"Sh.D.15\") |\n",
    "(data[\"Question_q\"]== \"Sh.D.16\") |\n",
    "(data[\"Question_q\"]== \"Sh.D.17\") |\n",
    "(data[\"Question_q\"]== \"Sh.D.18\") |\n",
    "(data[\"Question_q\"]== \"Sh.D.19\") |\n",
    "(data[\"Question_q\"]== \"Sh.D.20\") |\n",
    "(data[\"Question_q\"]== \"Sh.D.21\") |\n",
    "(data[\"Question_q\"]== \"Sh.D.23\") |\n",
    "(data[\"Question_q\"]== \"Sh.D.24\") |\n",
    "(data[\"Question_q\"]== \"Sh.D.25\") |\n",
    "(data[\"Question_q\"]== \"Sh.D.26\") |\n",
    "(data[\"Question_q\"]== \"Sh.W.4\") |\n",
    "(data[\"Question_q\"]== \"Sh.W.7\") |\n",
    "(data[\"Question_q\"]== \"Sh.W.8\") |\n",
    "(data[\"Question_q\"]== \"Sh.W.10\") |\n",
    "(data[\"Question_q\"]== \"Sh.W.13\") |\n",
    "(data[\"Question_q\"]== \"Sh.W.15\") |\n",
    "(data[\"Question_q\"]== \"Sh.W.18\") |\n",
    "(data[\"Question_q\"]== \"Sh.W.19\") |\n",
    "(data[\"Question_q\"]== \"Sh.W.23\") |\n",
    "(data[\"Question_q\"]== \"Sh.W.24\") |\n",
    "(data[\"Question_q\"]== \"Sh.W.25\") |\n",
    "(data[\"Question_q\"]== \"Sh.W.26\") |\n",
    "(data[\"Question_q\"]== \"A.E.1\") |\n",
    "(data[\"Question_q\"]== \"A.E.5\") |\n",
    "(data[\"Question_q\"]== \"A.E.13\") |\n",
    "(data[\"Question_q\"]== \"A.E.14\") |\n",
    "(data[\"Question_q\"]== \"A.E.18\") |\n",
    "(data[\"Question_q\"]== \"A.E.26\") |\n",
    "(data[\"Question_q\"]== \"A.T.2\") |\n",
    "(data[\"Question_q\"]== \"A.T.7\") |\n",
    "(data[\"Question_q\"]== \"A.T.8\") |\n",
    "(data[\"Question_q\"]== \"A.T.13\") |\n",
    "(data[\"Question_q\"]== \"A.T.14\") |\n",
    "(data[\"Question_q\"]== \"A.T.17\") |\n",
    "(data[\"Question_q\"]== \"A.T.26\") |\n",
    "(data[\"Question_q\"]== \"A.T.30\") |\n",
    "(data[\"Question_q\"]== \"A.T.32\") |\n",
    "(data[\"Question_q\"]== \"A.T.34\") |\n",
    "(data[\"Question_q\"]== \"A.T.35\") |\n",
    "(data[\"Question_q\"]== \"A.T.52\") |\n",
    "(data[\"Question_q\"]== \"A.O.1\") |\n",
    "(data[\"Question_q\"]== \"A.O.5\") |\n",
    "(data[\"Question_q\"]== \"A.O.14\") |\n",
    "(data[\"Question_q\"]== \"A.O.17\") |\n",
    "(data[\"Question_q\"]== \"A.O.23\") |\n",
    "(data[\"Question_q\"]== \"A.O.26\") |\n",
    "(data[\"Question_q\"]== \"A.O.29\") |\n",
    "(data[\"Question_q\"]== \"A.O.38\") |\n",
    "(data[\"Question_q\"]== \"A.O.41\") |\n",
    "(data[\"Question_q\"]== \"A.O.47\") |\n",
    "(data[\"Question_q\"]== \"A.O.56\") |\n",
    "(data[\"Question_q\"]== \"A.O.62\") |\n",
    "(data[\"Question_q\"]== \"A.O.65\") |\n",
    "(data[\"Question_q\"]== \"A.O.68\") |\n",
    "(data[\"Question_q\"]== \"D.P.3\") |\n",
    "(data[\"Question_q\"]== \"D.P.20\") |\n",
    "(data[\"Question_q\"]== \"D.P.25\") |\n",
    "(data[\"Question_q\"]== \"D.P.26\") |\n",
    "(data[\"Question_q\"]== \"D.P.54\") |\n",
    "(data[\"Question_q\"]== \"D.P.58\") |\n",
    "(data[\"Question_q\"]== \"D.P.66\") |\n",
    "(data[\"Question_q\"]== \"D.P.68\") |\n",
    "(data[\"Question_q\"]== \"D.P.71\") |\n",
    "(data[\"Question_q\"]== \"D.P.79\") |\n",
    "(data[\"Question_q\"]== \"D.C.8\") |\n",
    "(data[\"Question_q\"]== \"D.C.16\") |\n",
    "(data[\"Question_q\"]== \"D.C.38\") |\n",
    "(data[\"Question_q\"]== \"D.C.51\") |\n",
    "(data[\"Question_q\"]== \"D.C.54\") |\n",
    "(data[\"Question_q\"]== \"D.L.2\") |\n",
    "(data[\"Question_q\"]== \"D.L.9\") |\n",
    "(data[\"Question_q\"]== \"D.L.15\") |\n",
    "(data[\"Question_q\"]== \"D.L.17\") |\n",
    "(data[\"Question_q\"]== \"D.L.21\") |\n",
    "(data[\"Question_q\"]== \"D.L.22\") |\n",
    "(data[\"Question_q\"]== \"D.L.24\") |\n",
    "(data[\"Question_q\"]== \"D.L.28\") |\n",
    "(data[\"Question_q\"]== \"D.L.34\") |\n",
    "(data[\"Question_q\"]== \"D.L.40\") |\n",
    "(data[\"Question_q\"]== \"D.L.42\") |\n",
    "(data[\"Question_q\"]== \"D.L.43\") |\n",
    "(data[\"Question_q\"]== \"D.L.53\") |\n",
    "(data[\"Question_q\"]== \"D.L.54\") |\n",
    "(data[\"Question_q\"]== \"E.W.15\") |\n",
    "(data[\"Question_q\"]== \"E.W.41\") |\n",
    "(data[\"Question_q\"]== \"E.W.49\") |\n",
    "(data[\"Question_q\"]== \"E.R.7\") |\n",
    "(data[\"Question_q\"]== \"E.R.11\") |\n",
    "(data[\"Question_q\"]== \"E.R.13\") |\n",
    "(data[\"Question_q\"]== \"E.R.15\") |\n",
    "(data[\"Question_q\"]== \"E.R.37\") |\n",
    "(data[\"Question_q\"]== \"E.R.43\") |\n",
    "(data[\"Question_q\"]== \"E.R.44\") |\n",
    "(data[\"Question_q\"]== \"E.R.47\") |\n",
    "(data[\"Question_q\"]== \"E.R.69\") |\n",
    "(data[\"Question_q\"]== \"E.O.1\") |\n",
    "(data[\"Question_q\"]== \"U.V.1\") |\n",
    "(data[\"Question_q\"]== \"U.S.21\")]"
   ]
  },
  {
   "cell_type": "code",
   "execution_count": null,
   "id": "829fdd80",
   "metadata": {},
   "outputs": [],
   "source": [
    "tec.to_csv('tec.csv',index=False)"
   ]
  },
  {
   "cell_type": "code",
   "execution_count": null,
   "id": "20fc8510",
   "metadata": {},
   "outputs": [],
   "source": [
    "tec = pd.read_csv('tec.csv')"
   ]
  },
  {
   "cell_type": "code",
   "execution_count": null,
   "id": "c96d2e9d",
   "metadata": {},
   "outputs": [],
   "source": [
    "answer_score_mean = tec.groupby(\"C_Partic\")[\"ANSWER_SCORE__C\",].mean().reset_index()\n",
    "answer_outcome_mean = tec.groupby([\"C_Partic\",\"OUTCOME_SURVEY__C\"])[\"ANSWER_SCORE__C\"].mean().reset_index()\n",
    "#n_countries_outcome = data.groupby([\"C_Partic\",\"Number_countries\",\"OUTCOME_SURVEY__C\"])['AMOUNT__C'].mean()"
   ]
  },
  {
   "cell_type": "code",
   "execution_count": null,
   "id": "769d0f7e",
   "metadata": {},
   "outputs": [],
   "source": [
    "tec= tec[['ANSWER_SCORE__C','COUNTRY__C','OUTCOME_SURVEY__C','PROGRAMME__C','SURVEY_SCORE__C','Question_q','C_Partic','National_headcount','Global_headcount','Industries','Number_countries','Profitability','Cust_satisf','Revenue_growth','Market_share']]"
   ]
  },
  {
   "cell_type": "code",
   "execution_count": null,
   "id": "1bd813c4",
   "metadata": {},
   "outputs": [],
   "source": [
    "k =tec[['C_Partic','National_headcount','ANSWER_SCORE__C','COUNTRY__C','Number_countries','OUTCOME_SURVEY__C']]\n"
   ]
  },
  {
   "cell_type": "code",
   "execution_count": null,
   "id": "724c799d",
   "metadata": {},
   "outputs": [],
   "source": [
    "k.head()\n",
    "k = k[(k['Number_countries']<=193)&(k[\"Number_countries\"]>0)&(k[\"Number_countries\"].isna()== False)]\n",
    "k_1 = k.groupby([\"C_Partic\",\"OUTCOME_SURVEY__C\"])[\"ANSWER_SCORE__C\",'Number_countries'].mean().reset_index()"
   ]
  },
  {
   "cell_type": "code",
   "execution_count": null,
   "id": "1f2984b9",
   "metadata": {},
   "outputs": [],
   "source": [
    "k_1.to_csv('tec_n_countries.csv', index=False)"
   ]
  },
  {
   "cell_type": "code",
   "execution_count": null,
   "id": "92c2d9ab",
   "metadata": {},
   "outputs": [],
   "source": [
    "tec_fail = answer_outcome_mean[answer_outcome_mean['OUTCOME_SURVEY__C']== 'FAIL']\n",
    "tec_pass = answer_outcome_mean[answer_outcome_mean['OUTCOME_SURVEY__C']== 'PASS']\n",
    "data_pass=data[data['OUTCOME_SURVEY__C']== 'PASS']\n",
    "data_fail=data[data['OUTCOME_SURVEY__C']== 'FAIL']\n",
    "test = answer_outcome_mean[answer_outcome_mean['ANSWER_SCORE__C']>= 0.6]"
   ]
  },
  {
   "cell_type": "code",
   "execution_count": null,
   "id": "2dad390b",
   "metadata": {},
   "outputs": [],
   "source": [
    "big_fail = data[data]\n",
    "big_pass"
   ]
  },
  {
   "cell_type": "code",
   "execution_count": null,
   "id": "8b0283fb",
   "metadata": {},
   "outputs": [],
   "source": [
    "tec_fail['ANSWER_SCORE__C'].mean()"
   ]
  },
  {
   "cell_type": "code",
   "execution_count": null,
   "id": "bc7f9c45",
   "metadata": {},
   "outputs": [],
   "source": [
    "tec_pass['ANSWER_SCORE__C'].m()"
   ]
  },
  {
   "cell_type": "code",
   "execution_count": null,
   "id": "8ad10980",
   "metadata": {},
   "outputs": [],
   "source": [
    "data_pass['ANSWER_SCORE__C'].mean()"
   ]
  },
  {
   "cell_type": "code",
   "execution_count": null,
   "id": "5766332f",
   "metadata": {},
   "outputs": [],
   "source": [
    "data_fail['ANSWER_SCORE__C'].mean()"
   ]
  },
  {
   "cell_type": "code",
   "execution_count": null,
   "id": "f85a2f77",
   "metadata": {},
   "outputs": [],
   "source": [
    "data_pass['ANSWER_SCORE__C'].unique()"
   ]
  },
  {
   "cell_type": "code",
   "execution_count": null,
   "id": "036881ee",
   "metadata": {},
   "outputs": [],
   "source": [
    "answer_outcome_mean"
   ]
  },
  {
   "cell_type": "code",
   "execution_count": null,
   "id": "4cb6366b",
   "metadata": {},
   "outputs": [],
   "source": [
    "data.Number_countries.value_counts()"
   ]
  },
  {
   "cell_type": "code",
   "execution_count": null,
   "id": "1b29b516",
   "metadata": {},
   "outputs": [],
   "source": [
    "data.head(2)"
   ]
  },
  {
   "cell_type": "code",
   "execution_count": null,
   "id": "95671a76",
   "metadata": {},
   "outputs": [],
   "source": [
    "model = data[['OUTCOME_SURVEY__C','COUNTRY__C','COUNTRY_CATEGORY__C','CURRENCYISOCODE_y','Industries','Number_countries','Profitability','Cust_satisf','Global_headcount','National_headcount']]"
   ]
  },
  {
   "cell_type": "code",
   "execution_count": null,
   "id": "9b0fa2db",
   "metadata": {},
   "outputs": [],
   "source": [
    "import pandas as pd\n",
    "data = pd.read_csv('data_100.csv')"
   ]
  },
  {
   "cell_type": "code",
   "execution_count": null,
   "id": "e2e567fd",
   "metadata": {},
   "outputs": [],
   "source": [
    "model_w_n = model.dropna()"
   ]
  },
  {
   "cell_type": "code",
   "execution_count": null,
   "id": "3db78493",
   "metadata": {},
   "outputs": [],
   "source": [
    "model.shape"
   ]
  },
  {
   "cell_type": "code",
   "execution_count": null,
   "id": "aeeb6eb1",
   "metadata": {},
   "outputs": [],
   "source": [
    "model_w_n.Global_headcount.min()"
   ]
  },
  {
   "cell_type": "code",
   "execution_count": null,
   "id": "3f6c2efc",
   "metadata": {},
   "outputs": [],
   "source": [
    "model_w_n = model_w_n[model_w_n['Number_countries']<=234]"
   ]
  },
  {
   "cell_type": "code",
   "execution_count": null,
   "id": "3323b025",
   "metadata": {},
   "outputs": [],
   "source": [
    "model_w_n.shape"
   ]
  },
  {
   "cell_type": "code",
   "execution_count": null,
   "id": "58c93105",
   "metadata": {},
   "outputs": [],
   "source": [
    "model_w_n = model_w_n[model_w_n['National_headcount']>=250]"
   ]
  },
  {
   "cell_type": "code",
   "execution_count": null,
   "id": "c2f67d69",
   "metadata": {},
   "outputs": [],
   "source": [
    "model_w_n.shape"
   ]
  },
  {
   "cell_type": "code",
   "execution_count": null,
   "id": "4b3eb363",
   "metadata": {},
   "outputs": [],
   "source": [
    "model_w_n = model_w_n[model_w_n['Global_headcount']>=2500]"
   ]
  },
  {
   "cell_type": "code",
   "execution_count": null,
   "id": "c7cece0f",
   "metadata": {},
   "outputs": [],
   "source": [
    "model_w_n.isna().sum()"
   ]
  },
  {
   "cell_type": "code",
   "execution_count": null,
   "id": "b4dedeba",
   "metadata": {},
   "outputs": [],
   "source": [
    "model_w_n.to_csv('model',index=False)"
   ]
  },
  {
   "cell_type": "code",
   "execution_count": null,
   "id": "7653e66f",
   "metadata": {},
   "outputs": [],
   "source": []
  }
 ],
 "metadata": {
  "kernelspec": {
   "display_name": "Python 3 (ipykernel)",
   "language": "python",
   "name": "python3"
  },
  "language_info": {
   "codemirror_mode": {
    "name": "ipython",
    "version": 3
   },
   "file_extension": ".py",
   "mimetype": "text/x-python",
   "name": "python",
   "nbconvert_exporter": "python",
   "pygments_lexer": "ipython3",
   "version": "3.9.12"
  },
  "toc": {
   "base_numbering": 1,
   "nav_menu": {},
   "number_sections": true,
   "sideBar": true,
   "skip_h1_title": false,
   "title_cell": "Table of Contents",
   "title_sidebar": "Contents",
   "toc_cell": false,
   "toc_position": {},
   "toc_section_display": true,
   "toc_window_display": false
  }
 },
 "nbformat": 4,
 "nbformat_minor": 5
}
