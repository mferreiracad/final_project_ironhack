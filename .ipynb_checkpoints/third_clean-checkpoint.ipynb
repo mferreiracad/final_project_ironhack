{
 "cells": [
  {
   "cell_type": "code",
   "execution_count": null,
   "id": "fccbce8c",
   "metadata": {},
   "outputs": [],
   "source": [
    "import pandas as pd\n",
    "pd.set_option('display.max_columns', 500)"
   ]
  },
  {
   "cell_type": "code",
   "execution_count": null,
   "id": "d45bc889",
   "metadata": {},
   "outputs": [],
   "source": [
    "f2020 = pd.read_csv('final_2020_answers.csv')\n",
    "f2021 = pd.read_csv('final_2021_answers.csv')\n",
    "f2022 = pd.read_csv('final_2022_answers.csv')\n",
    "answers2 = pd.concat([f2020,f2021,f2022],axis=0)"
   ]
  },
  {
   "cell_type": "code",
   "execution_count": null,
   "id": "be40b2a4",
   "metadata": {},
   "outputs": [],
   "source": [
    "for x in answers.columns:\n",
    "    print(f'Value counts of {x} :\\n', answers[x].value_counts(dropna=False))\n",
    "    print()\n",
    "    print('---------------------------------------------------')\n",
    "    print(f'Percentage of NaNs: ',(answers[x].isna().sum()/len(answers))*100)\n",
    "    a = input('Do you want to delete this column?')\n",
    "    if a == 'y':\n",
    "        answers.drop(x, axis=1, inplace=True)\n",
    "    print('---------------------------------------------------')"
   ]
  },
  {
   "cell_type": "code",
   "execution_count": null,
   "id": "de8e1e90",
   "metadata": {},
   "outputs": [],
   "source": [
    "answers[answers.TOPIC.isna() ==True]"
   ]
  },
  {
   "cell_type": "code",
   "execution_count": null,
   "id": "c4149219",
   "metadata": {},
   "outputs": [],
   "source": [
    "b = answers[answers.QUESTION__C == 'a253Y000001QkKpQAK']"
   ]
  },
  {
   "cell_type": "code",
   "execution_count": null,
   "id": "792fe543",
   "metadata": {},
   "outputs": [],
   "source": [
    "answers.loc[answers['QUESTION__C'] == 'a253Y000001QkKoQAK', 'TOPIC'] = 'Rewards & Recognition'"
   ]
  },
  {
   "cell_type": "code",
   "execution_count": null,
   "id": "5f2d8a6a",
   "metadata": {},
   "outputs": [],
   "source": [
    "b.loc[b['QUESTION__C'] == 'a253Y000001QkHvQAK', 'TOPIC'] = 'Business Strategy'"
   ]
  },
  {
   "cell_type": "code",
   "execution_count": null,
   "id": "ca794a0d",
   "metadata": {},
   "outputs": [],
   "source": [
    "b.TOPIC.value_counts()"
   ]
  },
  {
   "cell_type": "code",
   "execution_count": null,
   "id": "497e03d6",
   "metadata": {},
   "outputs": [],
   "source": [
    "f2020.TOPIC.isna().sum()"
   ]
  },
  {
   "cell_type": "code",
   "execution_count": null,
   "id": "88bc1e09",
   "metadata": {},
   "outputs": [],
   "source": [
    "f2021.shape"
   ]
  },
  {
   "cell_type": "code",
   "execution_count": null,
   "id": "e567a6bd",
   "metadata": {},
   "outputs": [],
   "source": [
    "f2022.shape"
   ]
  },
  {
   "cell_type": "code",
   "execution_count": null,
   "id": "f0d9c19d",
   "metadata": {},
   "outputs": [],
   "source": [
    "list_1 = answers.columns\n",
    "list_2 = answers2.columns\n",
    "list_to_remove= []\n",
    "for item in list_2:\n",
    "    if item not in list_1:\n",
    "        list_to_remove.append(item)\n"
   ]
  },
  {
   "cell_type": "code",
   "execution_count": null,
   "id": "ed69f5ce",
   "metadata": {},
   "outputs": [],
   "source": [
    "for x in answers2.columns:\n",
    "    if x in list_to_remove:\n",
    "        answers2.drop(x, axis=1, inplace=True)"
   ]
  },
  {
   "cell_type": "code",
   "execution_count": null,
   "id": "63ad8523",
   "metadata": {},
   "outputs": [],
   "source": [
    "shared_list =[]\n",
    "for x in list_2:\n",
    "    if x in list_to_check:\n",
    "        shared_list.append(x)"
   ]
  },
  {
   "cell_type": "code",
   "execution_count": null,
   "id": "af506a31",
   "metadata": {},
   "outputs": [],
   "source": [
    "data = pd.read_csv('EXP_PROD_Participation_20220804.csv',sep=';')\n",
    "data.head()"
   ]
  },
  {
   "cell_type": "code",
   "execution_count": null,
   "id": "625e1d1f",
   "metadata": {},
   "outputs": [],
   "source": [
    "z = data[data.OUTCOME_SURVEY__C == 'PASS']\n",
    "z.head()"
   ]
  },
  {
   "cell_type": "code",
   "execution_count": null,
   "id": "0d18f921",
   "metadata": {},
   "outputs": [],
   "source": [
    "if 'a1f3Y00000I5sKzQAJ' in answers2.values:\n",
    "    print('Element exists in Dataframe') CASESAFE_PARTICIPATION_ID__C"
   ]
  },
  {
   "cell_type": "code",
   "execution_count": null,
   "id": "fe4e2552",
   "metadata": {},
   "outputs": [],
   "source": [
    "for x in answers2.columns:\n",
    "    for y in z.columns:\n",
    "        for w in z[y]:\n",
    "            if w in answers2[x].values:\n",
    "                print(x)"
   ]
  },
  {
   "cell_type": "code",
   "execution_count": null,
   "id": "5eaceb6b",
   "metadata": {},
   "outputs": [],
   "source": [
    "for x in answers2.columns:\n",
    "    print(x)"
   ]
  },
  {
   "cell_type": "code",
   "execution_count": null,
   "id": "2da2b720",
   "metadata": {},
   "outputs": [],
   "source": [
    "a = answers2[answers2['PARTICIPATION__C'].isna() == False]"
   ]
  },
  {
   "cell_type": "code",
   "execution_count": null,
   "id": "768715a4",
   "metadata": {},
   "outputs": [],
   "source": [
    "w.CASESAFE_PARTICIPATION_ID__C"
   ]
  },
  {
   "cell_type": "code",
   "execution_count": null,
   "id": "d7460254",
   "metadata": {},
   "outputs": [],
   "source": [
    "w = data[data['OUTCOME_SURVEY__C'].isna() == False]\n",
    "len(w)"
   ]
  },
  {
   "cell_type": "code",
   "execution_count": null,
   "id": "8f9295d0",
   "metadata": {},
   "outputs": [],
   "source": [
    "list_o = []\n",
    "list_p = []\n",
    "for x in tqdm.tqdm(range(0:len(w)):\n",
    "    for y in tqdm.tqdm()123\n",
    "    list_o.append(x)"
   ]
  },
  {
   "cell_type": "code",
   "execution_count": null,
   "id": "a545a97e",
   "metadata": {},
   "outputs": [],
   "source": [
    "import tqdm\n",
    "import time\n",
    "list_to_append = []\n",
    "for x in tqdm.tqdm(a['PARTICIPATION__C']):\n",
    "    for y in w['CASESAFE_PARTICIPATION_ID__C']:\n",
    "        for g in w['OUTCOME_SURVEY__C']:\n",
    "            if x == y:\n",
    "                list_to_append.append(g)"
   ]
  },
  {
   "cell_type": "code",
   "execution_count": null,
   "id": "1dc1f974",
   "metadata": {},
   "outputs": [],
   "source": [
    "q = answers2.merge(data,how='inner',left_on='PARTICIPATION__C', right_on='CASESAFE_PARTICIPATION_ID__C')"
   ]
  },
  {
   "cell_type": "code",
   "execution_count": null,
   "id": "85b7efdc",
   "metadata": {},
   "outputs": [],
   "source": [
    "c = q['PARTICIPATION__C']== q['CASESAFE_PARTICIPATION_ID__C']\n",
    "c.unique()"
   ]
  },
  {
   "cell_type": "code",
   "execution_count": null,
   "id": "284ba3f6",
   "metadata": {},
   "outputs": [],
   "source": [
    "answers2.PARTICIPATION__C.isna().sum()"
   ]
  },
  {
   "cell_type": "code",
   "execution_count": null,
   "id": "b00df631",
   "metadata": {},
   "outputs": [],
   "source": [
    "q.shape"
   ]
  },
  {
   "cell_type": "code",
   "execution_count": null,
   "id": "aa321f7a",
   "metadata": {},
   "outputs": [],
   "source": [
    "import tqdm\n",
    "import time\n",
    "for x in tqdm.tqdm(q.columns):\n",
    "    if (q[x].isna().sum()/len(q)) > 0.9:\n",
    "        q.drop(x, axis=1, inplace=True)"
   ]
  },
  {
   "cell_type": "code",
   "execution_count": null,
   "id": "0e7a3a9a",
   "metadata": {},
   "outputs": [],
   "source": [
    "q.to_csv('martin')"
   ]
  },
  {
   "cell_type": "code",
   "execution_count": null,
   "id": "9c14fc8c",
   "metadata": {},
   "outputs": [],
   "source": [
    "for x in q.columns:\n",
    "    print(f'Value counts of {x} :\\n', q[x].value_counts(dropna=False))\n",
    "    print()\n",
    "    print('---------------------------------------------------')\n",
    "    print(f'Percentage of NaNs: ',(q[x].isna().sum()/len(q))*100)\n",
    "    a = input('Do you want to delete this column?')\n",
    "    if a == 'y':\n",
    "        q.drop(x, axis=1, inplace=True)\n",
    "    print('---------------------------------------------------')"
   ]
  },
  {
   "cell_type": "code",
   "execution_count": null,
   "id": "6a9b4782",
   "metadata": {},
   "outputs": [],
   "source": []
  }
 ],
 "metadata": {
  "kernelspec": {
   "display_name": "Python 3 (ipykernel)",
   "language": "python",
   "name": "python3"
  },
  "language_info": {
   "codemirror_mode": {
    "name": "ipython",
    "version": 3
   },
   "file_extension": ".py",
   "mimetype": "text/x-python",
   "name": "python",
   "nbconvert_exporter": "python",
   "pygments_lexer": "ipython3",
   "version": "3.9.12"
  },
  "toc": {
   "base_numbering": 1,
   "nav_menu": {},
   "number_sections": true,
   "sideBar": true,
   "skip_h1_title": false,
   "title_cell": "Table of Contents",
   "title_sidebar": "Contents",
   "toc_cell": false,
   "toc_position": {},
   "toc_section_display": true,
   "toc_window_display": false
  }
 },
 "nbformat": 4,
 "nbformat_minor": 5
}
