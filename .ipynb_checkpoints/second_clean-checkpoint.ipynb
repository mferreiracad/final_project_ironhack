{
 "cells": [
  {
   "cell_type": "code",
   "execution_count": null,
   "id": "fa22748b",
   "metadata": {},
   "outputs": [],
   "source": [
    "import pandas as pd\n",
    "pd.set_option('display.max_columns', None)"
   ]
  },
  {
   "cell_type": "code",
   "execution_count": null,
   "id": "7496738e",
   "metadata": {},
   "outputs": [],
   "source": [
    "data9 = pd.read_csv('exp_prod_participation_ferreira')"
   ]
  },
  {
   "cell_type": "code",
   "execution_count": null,
   "id": "6836cdc0",
   "metadata": {},
   "outputs": [],
   "source": [
    "data8= pd.read_csv('EXP_PROD_Answer_20220804.csv')"
   ]
  },
  {
   "cell_type": "code",
   "execution_count": null,
   "id": "639c1bc8",
   "metadata": {},
   "outputs": [],
   "source": [
    "data9.drop(['ACCOUNT_FIRST_SPEND_DATE__C','ACCOUNT__C','INVOICE_TO__C','CUSTOM_CALIBRATION_REPORT__C','GENERATE_ANSWERS__C','IN_APPROVAL_PROCESS__C','RIGHTCURRENCYTYPE__C'],axis =1, inplace=True)"
   ]
  },
  {
   "cell_type": "code",
   "execution_count": null,
   "id": "001b8b1f",
   "metadata": {},
   "outputs": [],
   "source": [
    "w_outcome = data9[data9['OUTCOME_SURVEY__C'].isna() == False]\n",
    "w_outcome.PROGRAMME__C.value_counts()"
   ]
  },
  {
   "cell_type": "code",
   "execution_count": null,
   "id": "041a9d87",
   "metadata": {
    "scrolled": true
   },
   "outputs": [],
   "source": [
    "w_outcome.CUSTOM_CALIBRATION_REPORT__C.value_counts(dropna=False)"
   ]
  },
  {
   "cell_type": "code",
   "execution_count": null,
   "id": "f5fc64f1",
   "metadata": {},
   "outputs": [],
   "source": [
    "w_outcome.IN_APPROVAL_PROCESS__C.value_counts(dropna=False)"
   ]
  },
  {
   "cell_type": "code",
   "execution_count": null,
   "id": "c5809fc1",
   "metadata": {},
   "outputs": [],
   "source": [
    "for x in data8['CREATEDDATE'].unique():\n",
    "    print(x)"
   ]
  },
  {
   "cell_type": "code",
   "execution_count": null,
   "id": "7486cfba",
   "metadata": {},
   "outputs": [],
   "source": [
    "year = []\n",
    "for x in data8['CREATEDDATE']:\n",
    "    year.append(x[0:4])\n",
    "data8['YEAR'] = year"
   ]
  },
  {
   "cell_type": "code",
   "execution_count": null,
   "id": "fd620798",
   "metadata": {},
   "outputs": [],
   "source": [
    "twenty21 = data8[data8['YEAR'] == '2020']\n",
    "#twenty21 = data8[data8['YEAR'] == '2021']\n",
    "#twenty22 = data8[data8['YEAR'] == '2022']"
   ]
  },
  {
   "cell_type": "code",
   "execution_count": null,
   "id": "d554fa5a",
   "metadata": {},
   "outputs": [],
   "source": [
    "#twenty20.to_csv('twenty20', index=False)\n",
    "#twenty21.to_csv('twenty21', index=False)\n",
    "#twenty22.to_csv('twenty22', index=False)"
   ]
  },
  {
   "cell_type": "code",
   "execution_count": null,
   "id": "3d71b0ff",
   "metadata": {},
   "outputs": [],
   "source": [
    "twenty21 = pd.read_csv('twenty22')\n",
    "#twenty21 = pd.read_csv('twenty21')\n",
    "#twenty20 = pd.read_csv('twenty20')\n",
    "#final_2021= pd.read_csv('final_2021_answers.csv')\n",
    "#final_2020= pd.read_csv('final_2020_answers.csv')"
   ]
  },
  {
   "cell_type": "code",
   "execution_count": null,
   "id": "3159c315",
   "metadata": {},
   "outputs": [],
   "source": [
    "twenty21.DOMAIN__C.value_counts(dropna=False)"
   ]
  },
  {
   "cell_type": "code",
   "execution_count": null,
   "id": "18ce4671",
   "metadata": {},
   "outputs": [],
   "source": [
    "s2021_1 = twenty21[twenty21['DOMAIN__C']== 'TE2021 A. Steer']\n",
    "s2021_2 = twenty21[twenty21['DOMAIN__C']== 'A. Steer']\n",
    "#s2021_3 = twenty21[twenty21['DOMAIN__C']== 'TE2022 A. Steer']\n",
    "s2021=pd.concat([s2021_1,s2021_2], axis =0)\n",
    "\n",
    "sh2021_1 = twenty21[twenty21['DOMAIN__C']== 'TE2021 B. Shape']\n",
    "sh2021_2 = twenty21[twenty21['DOMAIN__C']== 'B. Shape']\n",
    "#sh2021_3 = twenty21[twenty21['DOMAIN__C']== 'TE2022 B. Shape']\n",
    "sh2021=pd.concat([sh2021_1,sh2021_2], axis =0)\n",
    "\n",
    "a2021_1 = twenty21[twenty21['DOMAIN__C']== 'TE2021 C. Attract']\n",
    "a2021_2 = twenty21[twenty21['DOMAIN__C']== 'C. Attract']\n",
    "#a2021_3 = twenty21[twenty21['DOMAIN__C']== 'TE2022 C. Attract HQ']\n",
    "a2021=pd.concat([a2021_1,a2021_2], axis =0)\n",
    "\n",
    "d2021_1 = twenty21[twenty21['DOMAIN__C']== 'TE2021 D. Develop']\n",
    "d2021_2 = twenty21[twenty21['DOMAIN__C']== 'D. Develop']\n",
    "d2021_3 = twenty21[twenty21['DOMAIN__C']== 'TE2020 D. Develop']\n",
    "d2021=pd.concat([d2021_1,d2021_2,d2021_3], axis =0)\n",
    "\n",
    "e2021_1 = twenty21[twenty21['DOMAIN__C']== 'TE2021 E. Engage']\n",
    "e2021_2 = twenty21[twenty21['DOMAIN__C']== 'E. Engage']\n",
    "#e2021_3 = twenty21[twenty21['DOMAIN__C']== 'TE2022 E. Engage HQ']\n",
    "e2021=pd.concat([e2021_1,e2021_2], axis =0)\n",
    "\n",
    "u2021_1 = twenty21[twenty21['DOMAIN__C']== 'TE2021 F. Unite']\n",
    "u2021_2 = twenty21[twenty21['DOMAIN__C']== 'F. Unite']\n",
    "#u2021_3 = twenty21[twenty21['DOMAIN__C']== 'TE2022 F. Unite']\n",
    "u2021=pd.concat([u2021_1,u2021_2], axis =0)\n",
    "\n",
    "g2021_1 = twenty21[twenty21['DOMAIN__C']== 'TE2021 G. General']\n",
    "g2021_2 = twenty21[twenty21['DOMAIN__C']== 'General']\n",
    "#g2021_3 = twenty21[twenty21['DOMAIN__C']== 'TE2022 G. General HQ']\n",
    "g2021=pd.concat([g2021_1,g2021_2], axis =0)\n",
    "\n",
    "#nx2021 = twenty21[twenty21['DOMAIN__C']== 'TE2023 Next Practices']"
   ]
  },
  {
   "cell_type": "code",
   "execution_count": null,
   "id": "4cab1ceb",
   "metadata": {},
   "outputs": [],
   "source": [
    "len(e2021)"
   ]
  },
  {
   "cell_type": "code",
   "execution_count": null,
   "id": "75ecc443",
   "metadata": {},
   "outputs": [],
   "source": [
    "g2021.TOPIC__C.value_counts(dropna=False)"
   ]
  },
  {
   "cell_type": "code",
   "execution_count": null,
   "id": "7137a313",
   "metadata": {},
   "outputs": [],
   "source": [
    "l_1 = s2021[s2021['TOPIC__C']== 'TE2021 A3 Leadership']\n",
    "l_2 = s2021[s2021['TOPIC__C']== 'TE2020 A3 Leadership']\n",
    "#l_3 = s2021[s2021['TOPIC__C']== 'TE2022 A3 Leadership']\n",
    "l_2021=pd.concat([l_1,l_2], axis =0)\n",
    "l_2021['TOPIC'] = 'Leadership'\n",
    "ps_1 = s2021[s2021['TOPIC__C']== 'TE2021 A2 People Strategy']\n",
    "ps_2 = s2021[s2021['TOPIC__C']== 'TE2020 A2 People Strategy']\n",
    "#ps_3 = s2021[s2021['TOPIC__C']== 'TE2022 A2 People Strategy']\n",
    "ps_2021=pd.concat([ps_1,ps_2], axis =0)\n",
    "ps_2021['TOPIC'] = 'People Strategy'\n",
    "bs_1 = s2021[s2021['TOPIC__C']== 'TE2021 A1 Business Strategy']\n",
    "bs_2 = s2021[s2021['TOPIC__C']== 'TE2020 A1 Business Strategy']\n",
    "#bs_3 = s2021[s2021['TOPIC__C']== 'TE2022 A1 Business Strategy']\n",
    "bs_2021=pd.concat([bs_1,bs_2], axis =0)\n",
    "bs_2021['TOPIC'] = 'Business Strategy'\n",
    "steer2021=pd.concat([l_2021,ps_2021,bs_2021], axis =0)\n",
    "steer2021['DOMAIN'] = 'Steer'\n",
    "oc_1 = sh2021[sh2021['TOPIC__C']== 'TE2021 B1 Organisation & Change']\n",
    "oc_2 = sh2021[sh2021['TOPIC__C']== 'TE2020 B1 Organisation & Change']\n",
    "#oc_3 = sh2021[sh2021['TOPIC__C']== 'TE2022 B1 Organisation & Change']\n",
    "oc_2021=pd.concat([oc_1,oc_2], axis =0)\n",
    "oc_2021['TOPIC'] = 'Organisation & Change'\n",
    "dhr_1 = sh2021[sh2021['TOPIC__C']== 'TE2021 B2 Digital HR']\n",
    "dhr_2 = sh2021[sh2021['TOPIC__C']== 'TE2020 B2 Digital HR']\n",
    "#dhr_3 = sh2021[sh2021['TOPIC__C']== 'TE2022 B2 Digital HR']\n",
    "dhr_2021=pd.concat([dhr_1,dhr_2], axis =0)\n",
    "dhr_2021['TOPIC'] = 'Digital HR'\n",
    "we_1 = sh2021[sh2021['TOPIC__C']== 'TE2021 B3 Work Environment']\n",
    "we_2 = sh2021[sh2021['TOPIC__C']== 'TE2020 B3 Work Environment']\n",
    "#we_3 = sh2021[sh2021['TOPIC__C']== 'TE2022 B3 Work Environment HQ']\n",
    "we_2021=pd.concat([we_1,we_2], axis =0)\n",
    "we_2021['TOPIC'] = 'Work Environment'\n",
    "shape2021=pd.concat([oc_2021,dhr_2021,we_2021], axis =0)\n",
    "shape2021['DOMAIN'] = 'Shape'\n",
    "ta_1 = a2021[a2021['TOPIC__C']== 'TE2021 C2 Talent Acquisition']\n",
    "ta_2 = a2021[a2021['TOPIC__C']== 'TE2020 C2 Talent Acquisition']\n",
    "#ta_3 = a2021[a2021['TOPIC__C']== 'TE2022 C2 Talent Acquisition HQ']\n",
    "ta_2021=pd.concat([ta_1,ta_2], axis =0)\n",
    "ta_2021['TOPIC'] = 'Talent Acquisition'\n",
    "ob_1 = a2021[a2021['TOPIC__C']== 'TE2021 C3 On-boarding']\n",
    "ob_2 = a2021[a2021['TOPIC__C']== 'TE2020 C3 On-boarding']\n",
    "#ob_3 = a2021[a2021['TOPIC__C']== 'TE2022 C3 On-boarding HQ']\n",
    "ob_2021=pd.concat([ob_1,ob_2], axis =0)\n",
    "ob_2021['TOPIC'] = 'On-boarding'\n",
    "eb_1 = a2021[a2021['TOPIC__C']== 'TE2021 C1 Employer Branding']\n",
    "eb_2 = a2021[a2021['TOPIC__C']== 'TE2020 C1 Employer Branding']\n",
    "#eb_3 = a2021[a2021['TOPIC__C']== 'TE2022 C1 Employer Branding']\n",
    "eb_2021=pd.concat([eb_1,eb_2], axis =0)\n",
    "eb_2021['TOPIC'] = 'Employer Branding'\n",
    "attract2021=pd.concat([ta_2021,ob_2021,eb_2021], axis =0)\n",
    "attract2021['DOMAIN'] = 'Attract'\n",
    "p_1 = d2021[d2021['TOPIC__C']== 'TE2021 D1 Performance']\n",
    "p_2 = d2021[d2021['TOPIC__C']== 'TE2020 D1 Performance']\n",
    "#p_3 = d2021[d2021['TOPIC__C']== 'TE2022 D1 Performance']\n",
    "p_2021=pd.concat([p_1,p_2], axis =0)\n",
    "p_2021['TOPIC'] = 'Performance'\n",
    "c_1 = d2021[d2021['TOPIC__C']== 'TE2021 D2 Career']\n",
    "c_2 = d2021[d2021['TOPIC__C']== 'TE2020 D2 Career']\n",
    "#c_3 = d2021[d2021['TOPIC__C']== 'TE2022 D2 Career']\n",
    "c_2021=pd.concat([c_1,c_2], axis =0)\n",
    "c_2021['TOPIC'] = 'Career'\n",
    "le_1 = d2021[d2021['TOPIC__C']== 'TE2021 D3 Learning']\n",
    "le_2 = d2021[d2021['TOPIC__C']== 'TE2020 D3 Learning']\n",
    "#le_3 = d2021[d2021['TOPIC__C']== 'TE2022 D3 Learning']\n",
    "le_2021=pd.concat([le_1,le_2], axis =0)\n",
    "le_2021['TOPIC'] = 'Learning'\n",
    "develop2021=pd.concat([p_2021,c_2021,le_2021], axis =0)\n",
    "develop2021['DOMAIN'] = 'Develop'\n",
    "wb_1 = e2021[e2021['TOPIC__C']== 'TE2021 E1 Well-being']\n",
    "wb_2 = e2021[e2021['TOPIC__C']== 'TE2020 E1 Well-being']\n",
    "#wb_3 = e2021[e2021['TOPIC__C']== 'TE2022 E1 Well-being HQ']\n",
    "wb_2021=pd.concat([wb_1,wb_2], axis =0)\n",
    "wb_2021['TOPIC'] = 'Well-being'\n",
    "rr_1 = e2021[e2021['TOPIC__C']== 'TE2021 E3 Rewards & Recognition']\n",
    "rr_2 = e2021[e2021['TOPIC__C']== 'TE2020 E3 Rewards & Recognition']\n",
    "#rr_3 = e2021[e2021['TOPIC__C']== 'TE2022 E3 Rewards & Recognition']\n",
    "rr_2021=pd.concat([rr_1,rr_2], axis =0)\n",
    "rr_2021['TOPIC'] = 'Rewards & Recognition'\n",
    "eng_1 = e2021[e2021['TOPIC__C']== 'TE2021 E2 Engagement']\n",
    "eng_2 = e2021[e2021['TOPIC__C']== 'TE2020 E2 Engagement']\n",
    "#eng_3 = e2021[e2021['TOPIC__C']== 'TE2022 E2 Engagement HQ']\n",
    "eng_2021=pd.concat([eng_1,eng_2], axis =0)\n",
    "eng_2021['TOPIC'] = 'Engagement'\n",
    "of_1 = e2021[e2021['TOPIC__C']== 'TE2021 E4 Off-boarding']\n",
    "of_2 = e2021[e2021['TOPIC__C']== 'TE2020 E4 Off-boarding']\n",
    "#of_3 = e2021[e2021['TOPIC__C']== 'TE2022 E4 Off-boarding HQ']\n",
    "of_2021=pd.concat([of_1,of_2], axis =0)\n",
    "of_2021['TOPIC'] = 'Off-boarding'\n",
    "engage2021=pd.concat([wb_2021,rr_2021,eng_2021,of_2021], axis =0)\n",
    "engage2021['DOMAIN'] = 'Engage'\n",
    "ei_1 = u2021[u2021['TOPIC__C']== 'TE2021 F2 Ethics & Integrity']\n",
    "ei_2 = u2021[u2021['TOPIC__C']== 'TE2020 F2 Ethics & Integrity']\n",
    "ei_2021=pd.concat([ei_1,ei_2], axis =0)\n",
    "ei_2021['TOPIC'] = 'Ethics & Integrity'\n",
    "sus_1 = u2021[u2021['TOPIC__C']== 'TE2021 F4 Sustainability']\n",
    "sus_2 = u2021[u2021['TOPIC__C']== 'TE2020 F4 Sustainability']\n",
    "#sus_3 = u2021[u2021['TOPIC__C']== 'TE2022 F4 Sustainability']\n",
    "sus_2021=pd.concat([sus_1,sus_2], axis =0)\n",
    "sus_2021['TOPIC'] = 'Sustainability'\n",
    "di_1 = u2021[u2021['TOPIC__C']== 'TE2021 F3 Diversity & Inclusion']\n",
    "di_2 = u2021[u2021['TOPIC__C']== 'TE2020 F3 Diversity & Inclusion']\n",
    "#di_3 = u2021[u2021['TOPIC__C']== 'TE2022 F3 Diversity & Inclusion HQ']\n",
    "di_2021=pd.concat([di_1,di_2], axis =0)\n",
    "di_2021['TOPIC'] = 'Diversity & Inclusion'\n",
    "va_1 = u2021[u2021['TOPIC__C']== 'TE2021 F1 Values']\n",
    "va_2 = u2021[u2021['TOPIC__C']== 'TE2020 F1 Values']\n",
    "va_2021=pd.concat([va_1,va_2], axis =0)\n",
    "va_2021['TOPIC'] = 'Values'\n",
    "unite2021=pd.concat([ei_2021,sus_2021,di_2021,va_2021], axis =0)\n",
    "unite2021['DOMAIN'] = 'Unite'\n",
    "ao_1 = g2021[g2021['TOPIC__C']== 'TE2021 G1 About your organisation']\n",
    "ao_2 = g2021[g2021['TOPIC__C']== 'TE2020 G1 About your organisation']\n",
    "#ao_3 = g2021[g2021['TOPIC__C']== 'TE2022 G1 About your organisation HQ']\n",
    "ao_2021=pd.concat([ao_1,ao_2], axis =0)\n",
    "ao_2021['TOPIC'] = 'About the organization'\n",
    "bc_1 = g2021[g2021['TOPIC__C']== 'TE2021 G2 Business Context']\n",
    "bc_2 = g2021[g2021['TOPIC__C']== 'TE2020 G2 Business Context']\n",
    "bc_2021=pd.concat([bc_1,bc_2], axis =0)\n",
    "bc_2021['TOPIC'] = 'Business Context'\n",
    "pri_1 = g2021[g2021['TOPIC__C']== 'TE2021 G3 Priorities']\n",
    "pri_2 = g2021[g2021['TOPIC__C']== 'TE2020 G3 Priorities']\n",
    "pri_2021=pd.concat([pri_1,pri_2], axis =0)\n",
    "pri_2021['TOPIC'] = 'Priorities'\n",
    "general2021=pd.concat([ao_2021,bc_2021,pri_2021], axis =0)\n",
    "general2021['DOMAIN'] = 'General'\n",
    "\n",
    "\n",
    "#nx_1 = nx2021[nx2021['TOPIC__C']== 'Shape']\n",
    "#nx_1['TOPIC'] = 'Shape'\n",
    "#nx_2 = nx2021[nx2021['TOPIC__C']== 'Develop']\n",
    "#nx_2['TOPIC'] = 'Develop'\n",
    "#nx_3 = nx2021[nx2021['TOPIC__C']== 'Unite']\n",
    "#nx_3['TOPIC'] = 'Unite'\n",
    "#nx_4 = nx2021[nx2021['TOPIC__C']== 'Engage']\n",
    "#nx_4['TOPIC'] = 'Engage'\n",
    "#nx_5 = nx2021[nx2021['TOPIC__C']== 'General']\n",
    "#nx_5['TOPIC'] = 'General'\n",
    "#nxp2021=pd.concat([nx_1,nx_2,nx_3,nx_4,nx_5], axis =0)\n",
    "#nxp2021['DOMAIN'] = 'Next Practices'\n",
    "\n",
    "final_2020 = pd.concat([steer2021,shape2021,attract2021,develop2021,engage2021,unite2021,general2021], axis =0)\n",
    "\n",
    "\n"
   ]
  },
  {
   "cell_type": "code",
   "execution_count": null,
   "id": "a19cc8cc",
   "metadata": {},
   "outputs": [],
   "source": [
    "v_2020['TOPIC'] = 'Values'\n",
    "s_2020['TOPIC'] = 'Sustainability'\n",
    "e_2020['TOPIC'] = 'Ethics & Integrity'\n",
    "d_2020['TOPIC'] = 'Diversity & Inclusion'\n",
    "unite2020=pd.concat([v_2020,ps_2021,e_2020,d_2020], axis =0)\n",
    "unite2020.to_csv('unite2020.csv',index=False)"
   ]
  },
  {
   "cell_type": "code",
   "execution_count": null,
   "id": "1213049c",
   "metadata": {},
   "outputs": [],
   "source": [
    "prio1 = general2020[general2020['TOPIC__C']== 'TE2020 G3 Priorities']\n",
    "#sus_2 = unite2020[unite2020['TOPIC__C']== 'TE2020 F4 Sustainability']\n",
    "#sustainability2020=pd.concat([sus_1,sus_2], axis =0)\n",
    "prio1.to_csv('priorities_2020.csv')"
   ]
  },
  {
   "cell_type": "code",
   "execution_count": null,
   "id": "62b80dea",
   "metadata": {},
   "outputs": [],
   "source": [
    "r_r_1 = unit2020[unit2020['TOPIC__C']== 'TE2021 E3 Rewards & Recognition']\n",
    "r_r_2 = unit2020[unit2020['TOPIC__C']== 'TE2020 E3 Rewards & Recognition']\n",
    "r_r_2020=pd.concat([r_r_1,r_r_2], axis =0)\n",
    "r_r_2020.to_csv('r_r_2020.csv')"
   ]
  },
  {
   "cell_type": "code",
   "execution_count": null,
   "id": "0c9e85b5",
   "metadata": {},
   "outputs": [],
   "source": [
    "general2020.to_csv('general2020.csv',index=False)"
   ]
  },
  {
   "cell_type": "code",
   "execution_count": null,
   "id": "c3e7fb30",
   "metadata": {},
   "outputs": [],
   "source": [
    "twenty20.DOMAIN__C.value_counts()"
   ]
  },
  {
   "cell_type": "code",
   "execution_count": null,
   "id": "28396ae8",
   "metadata": {},
   "outputs": [],
   "source": [
    "final_2020 = pd.concat([steer,shape,attract,develop,engage,unite,general], axis =0)"
   ]
  },
  {
   "cell_type": "code",
   "execution_count": null,
   "id": "ff93ad8b",
   "metadata": {},
   "outputs": [],
   "source": [
    "steer = pd.read_csv('steer2020.csv')\n",
    "shape = pd.read_csv('shape2020.csv')\n",
    "attract = pd.read_csv('attract2020.csv')\n",
    "develop = pd.read_csv('develop2020.csv')\n",
    "engage = pd.read_csv('engage2020.csv')\n",
    "unite = pd.read_csv('unite2020.csv')\n",
    "general = pd.read_csv('general2020.csv')\n",
    "steer['DOMAIN']='Steer'\n",
    "shape['DOMAIN']='Shape'\n",
    "attract['DOMAIN']='Attract'\n",
    "develop['DOMAIN']='Develop'\n",
    "engage['DOMAIN']='Engage'\n",
    "unite['DOMAIN']='Unite'\n",
    "general['DOMAIN']='General'\n",
    "\n",
    "final_2020 = pd.concat([steer,shape,attract,develop,engage,unite,general], axis =0)"
   ]
  },
  {
   "cell_type": "code",
   "execution_count": null,
   "id": "fa94b383",
   "metadata": {
    "scrolled": true
   },
   "outputs": [],
   "source": [
    "print(twenty21.shape)\n",
    "print(final_2020.DOMAIN.unique())"
   ]
  },
  {
   "cell_type": "code",
   "execution_count": null,
   "id": "24a2705c",
   "metadata": {},
   "outputs": [],
   "source": [
    "final_2022.drop(['TOPIC__C', 'DOMAIN__C'],axis = 1, inplace=True)"
   ]
  },
  {
   "cell_type": "code",
   "execution_count": null,
   "id": "f659f6ed",
   "metadata": {},
   "outputs": [],
   "source": [
    "final_2020.to_csv('final_2020_answers.csv',index=False)"
   ]
  },
  {
   "cell_type": "code",
   "execution_count": null,
   "id": "36549773",
   "metadata": {},
   "outputs": [],
   "source": [
    "data1.to_csv('exp_prod_answer_2020_ferreira',index=False)\n",
    "data2.to_csv('exp_prod_answer_2021_ferreira',index=False)\n",
    "data3.to_csv('exp_prod_answer_2022_ferreira',index=False)\n"
   ]
  },
  {
   "cell_type": "code",
   "execution_count": null,
   "id": "c09076c0",
   "metadata": {},
   "outputs": [],
   "source": [
    "data6.to_csv('exp_prod_answer_2022_ferreira')\n",
    "data4.to_csv('exp_prod_answer_2021_ferreira')\n",
    "data5.to_csv('exp_prod_answer_2020_ferreira')"
   ]
  }
 ],
 "metadata": {
  "kernelspec": {
   "display_name": "Python 3 (ipykernel)",
   "language": "python",
   "name": "python3"
  },
  "language_info": {
   "codemirror_mode": {
    "name": "ipython",
    "version": 3
   },
   "file_extension": ".py",
   "mimetype": "text/x-python",
   "name": "python",
   "nbconvert_exporter": "python",
   "pygments_lexer": "ipython3",
   "version": "3.9.12"
  },
  "toc": {
   "base_numbering": 1,
   "nav_menu": {},
   "number_sections": true,
   "sideBar": true,
   "skip_h1_title": false,
   "title_cell": "Table of Contents",
   "title_sidebar": "Contents",
   "toc_cell": false,
   "toc_position": {},
   "toc_section_display": true,
   "toc_window_display": false
  }
 },
 "nbformat": 4,
 "nbformat_minor": 5
}
