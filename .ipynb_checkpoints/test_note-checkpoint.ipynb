{
 "cells": [
  {
   "cell_type": "code",
   "execution_count": null,
   "id": "aafed6f0",
   "metadata": {},
   "outputs": [],
   "source": [
    "import pandas as pd"
   ]
  },
  {
   "cell_type": "code",
   "execution_count": null,
   "id": "ea5fbec7",
   "metadata": {},
   "outputs": [],
   "source": [
    "data = pd.read_csv('EXP_PROD_Answer_20220804.csv')"
   ]
  },
  {
   "cell_type": "code",
   "execution_count": null,
   "id": "e35e588d",
   "metadata": {},
   "outputs": [],
   "source": [
    "data2= pd.read_csv('EXP_PROD_Participation_20220804.csv', sep=';')"
   ]
  },
  {
   "cell_type": "code",
   "execution_count": null,
   "id": "4cd549c1",
   "metadata": {},
   "outputs": [],
   "source": [
    "data2.OUTCOME_SURVEY__C.value_counts()"
   ]
  },
  {
   "cell_type": "code",
   "execution_count": null,
   "id": "28876ea5",
   "metadata": {},
   "outputs": [],
   "source": [
    "for x in data.columns:\n",
    "    print(x)\n",
    "    "
   ]
  },
  {
   "cell_type": "code",
   "execution_count": null,
   "id": "47a3a0ac",
   "metadata": {},
   "outputs": [],
   "source": [
    "data.QUESTION_TEXT__C.nunique()"
   ]
  },
  {
   "cell_type": "code",
   "execution_count": null,
   "id": "571763dc",
   "metadata": {},
   "outputs": [],
   "source": []
  }
 ],
 "metadata": {
  "kernelspec": {
   "display_name": "Python 3 (ipykernel)",
   "language": "python",
   "name": "python3"
  },
  "language_info": {
   "codemirror_mode": {
    "name": "ipython",
    "version": 3
   },
   "file_extension": ".py",
   "mimetype": "text/x-python",
   "name": "python",
   "nbconvert_exporter": "python",
   "pygments_lexer": "ipython3",
   "version": "3.9.12"
  },
  "toc": {
   "base_numbering": 1,
   "nav_menu": {},
   "number_sections": true,
   "sideBar": true,
   "skip_h1_title": false,
   "title_cell": "Table of Contents",
   "title_sidebar": "Contents",
   "toc_cell": false,
   "toc_position": {},
   "toc_section_display": true,
   "toc_window_display": false
  }
 },
 "nbformat": 4,
 "nbformat_minor": 5
}
