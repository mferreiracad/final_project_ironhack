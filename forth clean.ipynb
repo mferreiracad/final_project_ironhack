{
 "cells": [
  {
   "cell_type": "code",
   "execution_count": null,
   "id": "75fef8af",
   "metadata": {},
   "outputs": [],
   "source": [
    "import pandas as pd\n",
    "pd.set_option('display.max_columns', 500)"
   ]
  },
  {
   "cell_type": "code",
   "execution_count": null,
   "id": "3d9d5fdb",
   "metadata": {},
   "outputs": [],
   "source": [
    "data = pd.read_csv('martin')\n",
    "data.shape"
   ]
  },
  {
   "cell_type": "code",
   "execution_count": null,
   "id": "88e0502f",
   "metadata": {},
   "outputs": [],
   "source": [
    "data = data[data['OUTCOME_SURVEY__C'].isna() == False]\n",
    "data.shape"
   ]
  },
  {
   "cell_type": "code",
   "execution_count": null,
   "id": "b1b7e831",
   "metadata": {},
   "outputs": [],
   "source": [
    "import tqdm\n",
    "import time\n",
    "for x in tqdm.tqdm(data.columns):\n",
    "    if (data[x].isna().sum()/len(data)) > 0.75:\n",
    "        data.drop(x, axis=1, inplace=True)"
   ]
  },
  {
   "cell_type": "code",
   "execution_count": null,
   "id": "251e8398",
   "metadata": {},
   "outputs": [],
   "source": [
    "listo=[]\n",
    "for x in tqdm.tqdm(data.columns):\n",
    "    if data[x].isna().sum()< 0.1:\n",
    "        if data[x].nunique() == 1:\n",
    "            data.drop(x, axis=1,inplace= True)"
   ]
  },
  {
   "cell_type": "code",
   "execution_count": null,
   "id": "fd1f8447",
   "metadata": {},
   "outputs": [],
   "source": [
    "data.shape"
   ]
  },
  {
   "cell_type": "code",
   "execution_count": null,
   "id": "1bec9f3d",
   "metadata": {},
   "outputs": [],
   "source": [
    "for x in data.columns:\n",
    "    print(f'Value counts of {x} :\\n', data[x].value_counts(dropna=False))\n",
    "    print()\n",
    "    print('---------------------------------------------------')\n",
    "    print(f'Percentage of NaNs: ',(data[x].isna().sum()/len(data))*100)\n",
    "    a = input('Do you want to delete this column?')\n",
    "    if a == 'y':\n",
    "        data.drop(x, axis=1, inplace=True)\n",
    "    print('---------------------------------------------------')"
   ]
  },
  {
   "cell_type": "code",
   "execution_count": null,
   "id": "0f6d34b7",
   "metadata": {},
   "outputs": [],
   "source": [
    "data.drop(['SURVEY_SUBMISSION_DEADLINE__C'], axis=1, inplace=True)"
   ]
  },
  {
   "cell_type": "code",
   "execution_count": null,
   "id": "3c08246b",
   "metadata": {},
   "outputs": [],
   "source": [
    "data.to_csv('ferreira')"
   ]
  },
  {
   "cell_type": "code",
   "execution_count": null,
   "id": "ed0fc8fb",
   "metadata": {},
   "outputs": [],
   "source": [
    "data = pd.read_csv('ferreira')\n",
    "data.drop(['Unnamed: 0'], axis=1, inplace=True)"
   ]
  },
  {
   "cell_type": "code",
   "execution_count": null,
   "id": "3e45827c",
   "metadata": {},
   "outputs": [],
   "source": [
    "for x in data.columns:\n",
    "    print(x, data[x].isna().sum())"
   ]
  },
  {
   "cell_type": "code",
   "execution_count": null,
   "id": "02d61a35",
   "metadata": {},
   "outputs": [],
   "source": [
    "o_pass=data[data['OUTCOME_SURVEY__C']== 'PASS']\n",
    "o_fail=data[data['OUTCOME_SURVEY__C']== 'FAIL']"
   ]
  },
  {
   "cell_type": "code",
   "execution_count": null,
   "id": "7a882944",
   "metadata": {},
   "outputs": [],
   "source": [
    "selection=data[data['QUESTION_TYPE__C']== 'Selection']"
   ]
  },
  {
   "cell_type": "code",
   "execution_count": null,
   "id": "27962630",
   "metadata": {},
   "outputs": [],
   "source": [
    "selection.shape"
   ]
  },
  {
   "cell_type": "code",
   "execution_count": null,
   "id": "5ba7341b",
   "metadata": {},
   "outputs": [],
   "source": [
    "selection = selection[selection['CURRENT_ANSWER__C'].notna()]"
   ]
  },
  {
   "cell_type": "code",
   "execution_count": null,
   "id": "799ae230",
   "metadata": {},
   "outputs": [],
   "source": [
    "selection.head()"
   ]
  },
  {
   "cell_type": "code",
   "execution_count": null,
   "id": "b07d48e2",
   "metadata": {},
   "outputs": [],
   "source": [
    "selection.OPPORTUNITY_STAGE__C.value_counts()"
   ]
  },
  {
   "cell_type": "code",
   "execution_count": null,
   "id": "7eee3bc3",
   "metadata": {},
   "outputs": [],
   "source": [
    "new_list=[]\n",
    "for x in selection.columns:\n",
    "    if selection[x].isna().sum() > 0:\n",
    "        new_list.append(x)"
   ]
  },
  {
   "cell_type": "code",
   "execution_count": null,
   "id": "175a7918",
   "metadata": {},
   "outputs": [],
   "source": [
    "selection.drop(['INITIAL_ANSWER__C',\n",
    " 'LAST_YEARS_ANSWER__C',\n",
    " 'PREVIOUS_YEAR_S_ANSWER__C','INVOICE_TO__C',\n",
    " 'INVOICE__C',\n",
    " 'NEXT_YEAR_PARTICIPATION__C',\n",
    " 'OPEN_ANSWERS_QUANTITY__C',\n",
    " 'OPEN_FINDINGS_QUANTITY__C','POTENTIAL_FINDING_GAUGE_RESULT__C','VALIDATION_APPROACH__C'],axis=1, inplace=True)"
   ]
  },
  {
   "cell_type": "code",
   "execution_count": null,
   "id": "a3891e89",
   "metadata": {},
   "outputs": [],
   "source": [
    "selection.drop(['PARTICIPATION_TYPE_FORMULA__C','PARTICIPATION_TYPE__C', 'TARGET_CERTIFICATION__C'], axis = 1, inplace=True)"
   ]
  },
  {
   "cell_type": "code",
   "execution_count": null,
   "id": "a18c5c8b",
   "metadata": {},
   "outputs": [],
   "source": [
    "selection.drop(['ID_x','NA_SELECTED__C','QUESTION_TYPE__C','CREATEDBYID_y','INITIAL_SCORE__C','OWNERID_y','QUALITY_CHECK_COMPLETED__C','YEAR__C'], axis=1, inplace=True)"
   ]
  },
  {
   "cell_type": "code",
   "execution_count": null,
   "id": "076d933f",
   "metadata": {},
   "outputs": [],
   "source": [
    "for x in selection.columns:\n",
    "    print(x, selection[x].isna().sum())"
   ]
  },
  {
   "cell_type": "code",
   "execution_count": null,
   "id": "4e3a487a",
   "metadata": {},
   "outputs": [],
   "source": [
    "countries = pd.read_csv('countries.csv')\n",
    "p = dict(zip(countries.Country, countries.Continent))\n",
    "p"
   ]
  },
  {
   "cell_type": "code",
   "execution_count": null,
   "id": "a941b5f9",
   "metadata": {},
   "outputs": [],
   "source": [
    "selection['Continent'] = selection['COUNTRY__C'].map(p)"
   ]
  },
  {
   "cell_type": "code",
   "execution_count": null,
   "id": "20a9c144",
   "metadata": {},
   "outputs": [],
   "source": [
    "europe = selection[selection['Continent']=='Europe']\n",
    "asia = selection[selection['Continent']=='Asia']\n",
    "africa = selection[selection['Continent']=='Africa']\n",
    "south_america = selection[selection['Continent']=='South America']\n",
    "north_america = selection[selection['Continent']=='North America']\n",
    "oceania = selection[selection['Continent']=='Oceania']\n",
    "europe.to_csv('europe',index=False)\n",
    "asia.to_csv('asia',index=False)\n",
    "africa.to_csv('africa',index=False)\n",
    "south_america.to_csv('south_america',index=False)\n",
    "north_america.to_csv('north_america',index=False)\n",
    "oceania.to_csv('oceania',index=False)"
   ]
  },
  {
   "cell_type": "code",
   "execution_count": null,
   "id": "f0d78476",
   "metadata": {},
   "outputs": [],
   "source": [
    "a = europe.OUTCOME_SURVEY__C.value_counts()\n",
    "b = asia.OUTCOME_SURVEY__C.value_counts()\n",
    "c = africa.OUTCOME_SURVEY__C.value_counts()\n",
    "d = south_america.OUTCOME_SURVEY__C.value_counts()\n",
    "e = north_america.OUTCOME_SURVEY__C.value_counts()\n",
    "f = oceania.OUTCOME_SURVEY__C.value_counts()"
   ]
  },
  {
   "cell_type": "code",
   "execution_count": null,
   "id": "4fae2e97",
   "metadata": {},
   "outputs": [],
   "source": []
  },
  {
   "cell_type": "code",
   "execution_count": null,
   "id": "4956ade9",
   "metadata": {},
   "outputs": [],
   "source": [
    "prospect = selection[selection['ACCOUNT_CUSTOMER_TYPE__C']=='Prospect']\n",
    "churned = selection[selection['ACCOUNT_CUSTOMER_TYPE__C']=='Churned']\n",
    "existing_b = selection[selection['ACCOUNT_CUSTOMER_TYPE__C']=='Existing Business']\n",
    "new_b = selection[selection['ACCOUNT_CUSTOMER_TYPE__C']=='New Business']\n",
    "prospect.to_csv('prospect',index=False)\n",
    "churned.to_csv('churned',index=False)\n",
    "existing_b.to_csv('existing_b',index=False)\n",
    "new_b.to_csv('new_b',index=False)"
   ]
  },
  {
   "cell_type": "code",
   "execution_count": null,
   "id": "4fa8ad43",
   "metadata": {},
   "outputs": [],
   "source": [
    "a"
   ]
  },
  {
   "cell_type": "code",
   "execution_count": null,
   "id": "bf9b5d68",
   "metadata": {},
   "outputs": [],
   "source": [
    "b"
   ]
  },
  {
   "cell_type": "code",
   "execution_count": null,
   "id": "aa55fe06",
   "metadata": {},
   "outputs": [],
   "source": [
    "c"
   ]
  },
  {
   "cell_type": "code",
   "execution_count": null,
   "id": "ddb98487",
   "metadata": {},
   "outputs": [],
   "source": [
    "x_part = pd.read_csv('x_part.csv')\n",
    "x_part =  dict(zip(x_part.PARTICIPATION__C, x_part.C_Partic))"
   ]
  },
  {
   "cell_type": "code",
   "execution_count": null,
   "id": "31d59451",
   "metadata": {},
   "outputs": [],
   "source": [
    "for x in selection.PARTICIPATION__C.unique():\n",
    "    print(x)"
   ]
  },
  {
   "cell_type": "code",
   "execution_count": null,
   "id": "5156d836",
   "metadata": {},
   "outputs": [],
   "source": [
    "data['C_Partic'] = data['PARTICIPATION__C'].map(x_part)"
   ]
  },
  {
   "cell_type": "code",
   "execution_count": null,
   "id": "ade6d59a",
   "metadata": {},
   "outputs": [],
   "source": [
    "selection"
   ]
  },
  {
   "cell_type": "code",
   "execution_count": null,
   "id": "e2b01a83",
   "metadata": {},
   "outputs": [],
   "source": [
    "gen =data[data['DOMAIN']=='Next Practices']"
   ]
  },
  {
   "cell_type": "code",
   "execution_count": null,
   "id": "68d5130a",
   "metadata": {},
   "outputs": [],
   "source": [
    "gen.TOPIC.unique()"
   ]
  },
  {
   "cell_type": "code",
   "execution_count": null,
   "id": "04ace8d3",
   "metadata": {},
   "outputs": [],
   "source": [
    "about = gen[gen['TOPIC'] == 'General']"
   ]
  },
  {
   "cell_type": "code",
   "execution_count": null,
   "id": "5140b410",
   "metadata": {},
   "outputs": [],
   "source": [
    "a = about['QUESTION_TEXT__C'].unique()"
   ]
  },
  {
   "cell_type": "code",
   "execution_count": null,
   "id": "abc0cee2",
   "metadata": {},
   "outputs": [],
   "source": [
    "for x in a:\n",
    "    print(x)"
   ]
  },
  {
   "cell_type": "code",
   "execution_count": null,
   "id": "465cdba9",
   "metadata": {},
   "outputs": [],
   "source": [
    "questions_q = pd.read_csv('quesions_q.csv')\n",
    "questions_q =  dict(zip(questions_q.Question, questions_q.Q_Number))\n",
    "data['Question_q'] = selection['QUESTION_TEXT__C'].map(questions_q)"
   ]
  },
  {
   "cell_type": "code",
   "execution_count": null,
   "id": "d7dffa67",
   "metadata": {},
   "outputs": [],
   "source": []
  },
  {
   "cell_type": "code",
   "execution_count": null,
   "id": "45bf3358",
   "metadata": {},
   "outputs": [],
   "source": [
    "data = pd.read_csv('data_100.csv')"
   ]
  },
  {
   "cell_type": "code",
   "execution_count": null,
   "id": "0ab782f4",
   "metadata": {},
   "outputs": [],
   "source": [
    "data[data['Question_q'].isna()]"
   ]
  },
  {
   "cell_type": "code",
   "execution_count": null,
   "id": "5454d47e",
   "metadata": {},
   "outputs": [],
   "source": [
    "questions_q = pd.read_csv('quesions_q.csv')\n",
    "questions_q =  dict(zip(questions_q.Question, questions_q.Q_Number))\n",
    "data['Question_q'] = data['QUESTION_TEXT__C'].map(questions_q)"
   ]
  },
  {
   "cell_type": "code",
   "execution_count": null,
   "id": "3f75fa94",
   "metadata": {},
   "outputs": [],
   "source": [
    "number_countries = pd.read_csv('number_countries.csv')\n",
    "number_countries =  dict(zip(number_countries.x_part, number_countries.Number_countries))\n",
    "data['Number_countries'] = data['C_Partic'].map(number_countries)"
   ]
  },
  {
   "cell_type": "code",
   "execution_count": null,
   "id": "bfd22c7c",
   "metadata": {},
   "outputs": [],
   "source": [
    "gae3 = data[data['Question_q']=='G.A.3']\n",
    "gae15 = data[data['Question_q']=='G.A.15']\n",
    "#gae11 = data[data['Question_q']=='G.A.11']\n",
    "#gae16 = data[data['Question_q']=='G.A.16']"
   ]
  },
  {
   "cell_type": "code",
   "execution_count": null,
   "id": "3c146e67",
   "metadata": {},
   "outputs": [],
   "source": [
    "for x in gae15.C_Partic:\n",
    "    print(x)"
   ]
  },
  {
   "cell_type": "code",
   "execution_count": null,
   "id": "64ab2320",
   "metadata": {},
   "outputs": [],
   "source": [
    "data.to_csv('data_100.csv',index=False)"
   ]
  },
  {
   "cell_type": "code",
   "execution_count": null,
   "id": "deab057a",
   "metadata": {},
   "outputs": [],
   "source": [
    "gae2.index.tolist()"
   ]
  },
  {
   "cell_type": "code",
   "execution_count": null,
   "id": "69ea7df9",
   "metadata": {},
   "outputs": [],
   "source": [
    "ge = k[k['DOMAIN']=='General']"
   ]
  },
  {
   "cell_type": "code",
   "execution_count": null,
   "id": "76b1b3c7",
   "metadata": {},
   "outputs": [],
   "source": [
    "for x in ge.QUESTION_TEXT__C.unique():\n",
    "    print(x)"
   ]
  },
  {
   "cell_type": "code",
   "execution_count": null,
   "id": "ac7aea58",
   "metadata": {},
   "outputs": [],
   "source": []
  }
 ],
 "metadata": {
  "kernelspec": {
   "display_name": "Python 3 (ipykernel)",
   "language": "python",
   "name": "python3"
  },
  "language_info": {
   "codemirror_mode": {
    "name": "ipython",
    "version": 3
   },
   "file_extension": ".py",
   "mimetype": "text/x-python",
   "name": "python",
   "nbconvert_exporter": "python",
   "pygments_lexer": "ipython3",
   "version": "3.9.12"
  },
  "toc": {
   "base_numbering": 1,
   "nav_menu": {},
   "number_sections": true,
   "sideBar": true,
   "skip_h1_title": false,
   "title_cell": "Table of Contents",
   "title_sidebar": "Contents",
   "toc_cell": false,
   "toc_position": {},
   "toc_section_display": true,
   "toc_window_display": false
  }
 },
 "nbformat": 4,
 "nbformat_minor": 5
}
