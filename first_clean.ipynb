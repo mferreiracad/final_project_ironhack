{
 "cells": [
  {
   "cell_type": "code",
   "execution_count": null,
   "id": "dda0df28",
   "metadata": {},
   "outputs": [],
   "source": [
    "import pandas as pd\n",
    "pd.set_option('display.max_columns', 500)"
   ]
  },
  {
   "cell_type": "code",
   "execution_count": null,
   "id": "fbe5c95c",
   "metadata": {},
   "outputs": [],
   "source": [
    "data1 = pd.read_csv('EXP_PROD_Participation_20220804.csv',sep=';')\n",
    "data1"
   ]
  },
  {
   "cell_type": "code",
   "execution_count": null,
   "id": "d9481859",
   "metadata": {},
   "outputs": [],
   "source": [
    "#losing columns with more than 80% nans\n",
    "min_c =  int(((100-80)/100)*data1.shape[0] + 1)\n",
    "data1_2 = data1.dropna( axis=1, \n",
    "                thresh=min_c)"
   ]
  },
  {
   "cell_type": "code",
   "execution_count": null,
   "id": "d31cac40",
   "metadata": {},
   "outputs": [],
   "source": [
    "#losing columns with 0 nans but only one unique element\n",
    "another_lis=['CALCULATE_SCORE__C',\n",
    "'IN_CANCELLATION_PROCESSES__C',\n",
    "'ISDELETED',\n",
    "'PRE_ASSESSMENT_OUTCOME_CHANGE_APPROVED__C',\n",
    "'PRE_ASSESSMENT_OUTCOME_CHANGE_REJECTED__C',\n",
    "'UPDATE__C',\n",
    "'VALIDATION_CALCULATE_DEADLINE_DATE__C']\n",
    "for x in another_lis:\n",
    "    data1_2.drop(x, axis=1, inplace=True)"
   ]
  },
  {
   "cell_type": "code",
   "execution_count": null,
   "id": "17b3a7d7",
   "metadata": {},
   "outputs": [],
   "source": [
    "data1_2"
   ]
  },
  {
   "cell_type": "code",
   "execution_count": null,
   "id": "2daa4dc8",
   "metadata": {},
   "outputs": [],
   "source": [
    "list_x = []\n",
    "for x in data1_2.columns:\n",
    "    if data1_2[x].isna().sum() == 1:\n",
    "        list_x.append(x)\n",
    "for x in list_x:\n",
    "    print(data1_2[data1_2[x].isna() ==True])"
   ]
  },
  {
   "cell_type": "code",
   "execution_count": null,
   "id": "00d9253f",
   "metadata": {},
   "outputs": [],
   "source": [
    "data1_2.drop(17812, axis =0, inplace = True)"
   ]
  },
  {
   "cell_type": "code",
   "execution_count": null,
   "id": "61237413",
   "metadata": {
    "scrolled": false
   },
   "outputs": [],
   "source": [
    "list_to_drop= ['CREATEDBYID','DELIVERABLE_LANGUAGE__C','LASTMODIFIEDBYID','LASTMODIFIEDDATE','SYSTEMMODSTAMP','VALIDATION_SESSION_LANGUAGE__C']"
   ]
  },
  {
   "cell_type": "code",
   "execution_count": null,
   "id": "daec10e8",
   "metadata": {},
   "outputs": [],
   "source": [
    "for x in list_to_drop:\n",
    "    data1_2.drop(x, axis=1, inplace=True)"
   ]
  },
  {
   "cell_type": "code",
   "execution_count": null,
   "id": "02b1e48d",
   "metadata": {},
   "outputs": [],
   "source": [
    "data1_2.to_csv('exp_prod_participation_ferreira')"
   ]
  },
  {
   "cell_type": "code",
   "execution_count": null,
   "id": "d1dbfbfb",
   "metadata": {},
   "outputs": [],
   "source": [
    "data2 = pd.read_csv('EXP_PROD_Programme_20220804.csv',sep=',')\n",
    "data2 = data2[['NAME','START_DATE__C','END_DATE__C','CURRENT_CYCLE__C','OWNERID','ID','CERTIFICATION_OPERATIONS_USER__C','CREATEDBYID']]\n",
    "data2.to_csv('exp_prod_programme_ferreira')"
   ]
  },
  {
   "cell_type": "code",
   "execution_count": null,
   "id": "3026cc7a",
   "metadata": {},
   "outputs": [],
   "source": [
    "data3 = pd.read_csv('EXP_PROD_Domain_20220804.csv',sep=',')\n",
    "data3.shape"
   ]
  },
  {
   "cell_type": "code",
   "execution_count": null,
   "id": "a079f9ef",
   "metadata": {},
   "outputs": [],
   "source": [
    "list_to_drop2 = ['CREATEDBYID','HELP_TEXT_DUTCH__C',\n",
    "'HELP_TEXT_FLEMISH_DUTCH__C',\n",
    "'HELP_TEXT_FRENCH__C',\n",
    "'HELP_TEXT_GERMAN__C',\n",
    "'HELP_TEXT_ITALIAN__C',\n",
    "'HELP_TEXT_POLISH__C',\n",
    "'HELP_TEXT_PORTUGUESE__C',\n",
    "'HELP_TEXT_SIMPLIFIED_CHINESE__C',\n",
    "'HELP_TEXT_SPANISH__C',\n",
    "'LASTREFERENCEDDATE',\n",
    "'LASTVIEWEDDATE',\n",
    "'ORIGINATING_DOMAIN__C',\n",
    "'SPECIAL_DOMAIN_TYPE__C',\n",
    "'SYSTEMMODSTAMP']"
   ]
  },
  {
   "cell_type": "code",
   "execution_count": null,
   "id": "a5a1878a",
   "metadata": {},
   "outputs": [],
   "source": [
    "for x in list_to_drop2:\n",
    "    data3.drop(x, axis=1, inplace=True)"
   ]
  },
  {
   "cell_type": "code",
   "execution_count": null,
   "id": "b3ce7512",
   "metadata": {},
   "outputs": [],
   "source": [
    "data3.to_csv('exp_prod_domain_ferreira')"
   ]
  },
  {
   "cell_type": "code",
   "execution_count": null,
   "id": "27175fc6",
   "metadata": {},
   "outputs": [],
   "source": [
    "data4 = pd.read_csv('EXP_PROD_QuestionTopic_20220804.csv',sep=',')"
   ]
  },
  {
   "cell_type": "code",
   "execution_count": null,
   "id": "2f98117d",
   "metadata": {},
   "outputs": [],
   "source": [
    "new_list= ['LASTREFERENCEDDATE',\n",
    "'LASTVIEWEDDATE','UAT_ID__C',\n",
    "'UAT_NAME__C']\n",
    "for x in new_list:\n",
    "    data4.drop(x, axis=1, inplace=True)\n",
    "data4.to_csv('exp_question_topic_ferreira')"
   ]
  },
  {
   "cell_type": "code",
   "execution_count": null,
   "id": "4d7945c3",
   "metadata": {},
   "outputs": [],
   "source": [
    "data5 = pd.read_csv('EXP_PROD_Survey_20220804.csv',sep=',')\n",
    "data5"
   ]
  },
  {
   "cell_type": "code",
   "execution_count": null,
   "id": "00ed99b8",
   "metadata": {},
   "outputs": [],
   "source": [
    "drop_list=['LASTREFERENCEDDATE',\n",
    "'LASTVIEWEDDATE',\n",
    "'NAME_DUTCH__C',\n",
    "'NAME_ENGLISH__C',\n",
    "'NAME_FLEMISH_DUTCH__C',\n",
    "'NAME_FRENCH__C',\n",
    "'NAME_GERMAN__C',\n",
    "'NAME_ITALIAN__C',\n",
    "'NAME_POLISH__C',\n",
    "'NAME_PORTUGUESE__C',\n",
    "'NAME_SIMPLIFIED_CHINESE__C',\n",
    "'NAME_SPANISH__C',\n",
    "'SYSTEMMODSTAMP']\n",
    "for x in drop_list:\n",
    "    data5.drop(x, axis=1, inplace=True)\n",
    "data5.shape\n",
    "data5.to_csv('exp_prod_survey_ferreira')"
   ]
  },
  {
   "cell_type": "code",
   "execution_count": null,
   "id": "8a94e186",
   "metadata": {},
   "outputs": [],
   "source": [
    "data5.shape"
   ]
  },
  {
   "cell_type": "code",
   "execution_count": null,
   "id": "5840ceaa",
   "metadata": {},
   "outputs": [],
   "source": []
  },
  {
   "cell_type": "code",
   "execution_count": null,
   "id": "aac21089",
   "metadata": {},
   "outputs": [],
   "source": [
    "data6 = pd.read_csv('EXP_PROD_Answer_20220804.csv',sep=',')\n",
    "data6"
   ]
  },
  {
   "cell_type": "code",
   "execution_count": null,
   "id": "d5c2d8b7",
   "metadata": {},
   "outputs": [],
   "source": [
    "#droping the columns with more than 80% Nan's\n",
    "min_c =  int(((100-80)/100)*data6.shape[0] + 1)\n",
    "data6_1 = data6.dropna( axis=1, \n",
    "                thresh=min_c)"
   ]
  },
  {
   "cell_type": "code",
   "execution_count": null,
   "id": "6dcbef83",
   "metadata": {},
   "outputs": [],
   "source": [
    "#lost 37 columns\n",
    "data6_1.shape"
   ]
  },
  {
   "cell_type": "code",
   "execution_count": null,
   "id": "c08d88ac",
   "metadata": {},
   "outputs": [],
   "source": [
    "#columns with 1 value and 0 nan's:\n",
    "list_1 = ['CURRENCYISOCODE',\n",
    "'IGNORE_QUESTION__C',\n",
    "'ISDELETED',\n",
    "'ISDOCUMENTISNOTCORRECTTEMPAPP__C',\n",
    "'RECALCULATE_ADVANCED_CHECK__C',\n",
    "'RECALCULATE_HQ_DIFFERENCE__C',\n",
    "'RECALCULATE_STANDARD_CHECK__C',\n",
    "'RECALCULATE_YEAR_ON_YEAR__C']\n",
    "for x in list_1:\n",
    "    print(data6_1[x].unique())"
   ]
  },
  {
   "cell_type": "code",
   "execution_count": null,
   "id": "00622b8e",
   "metadata": {},
   "outputs": [],
   "source": [
    "data6_2 = data6_1\n",
    "for x in list_1:\n",
    "    data6_2.drop(x, axis=1, inplace =True)"
   ]
  },
  {
   "cell_type": "code",
   "execution_count": null,
   "id": "ae018b48",
   "metadata": {},
   "outputs": [],
   "source": [
    "# 63 columns\n",
    "data6_2.shape"
   ]
  },
  {
   "cell_type": "code",
   "execution_count": null,
   "id": "f8af6e8b",
   "metadata": {},
   "outputs": [],
   "source": [
    "list_2 = []\n",
    "for x in data6_2.columns:\n",
    "    if data6_2[x].isna().sum() == 1:\n",
    "        list_2.append(x)\n",
    "for x in list_2:\n",
    "    print(data6_2[data6_2[x].isna() ==True])"
   ]
  },
  {
   "cell_type": "code",
   "execution_count": null,
   "id": "fb079807",
   "metadata": {},
   "outputs": [],
   "source": [
    "#losing a single row with many nan's ( first row I drop :-( )\n",
    "data6_3 = data6_2.drop(2456665, axis = 0)\n",
    "data6_3.shape"
   ]
  },
  {
   "cell_type": "code",
   "execution_count": null,
   "id": "b7b509a9",
   "metadata": {},
   "outputs": [],
   "source": [
    "year = []\n",
    "for x in data6_3['CREATEDDATE']:\n",
    "    year.append(x[0:4])\n",
    "data6_3['YEAR'] = year"
   ]
  },
  {
   "cell_type": "code",
   "execution_count": null,
   "id": "b0ce3d7d",
   "metadata": {},
   "outputs": [],
   "source": [
    "twenty21 = data6_3[data6_3['YEAR'] == '2021']\n",
    "twenty20 = data6_3[data6_3['YEAR'] == '2020']\n",
    "twenty22 = data6_3[data6_3['YEAR'] == '2022']"
   ]
  },
  {
   "cell_type": "code",
   "execution_count": null,
   "id": "04d4a87c",
   "metadata": {},
   "outputs": [],
   "source": [
    "twenty21.to_csv('exp_prod_answer_2021_ferreira')\n",
    "twenty20.to_csv('exp_prod_answer_2020_ferreira')\n",
    "twenty22.to_csv('exp_prod_answer_2022_ferreira')"
   ]
  },
  {
   "cell_type": "code",
   "execution_count": null,
   "id": "02105470",
   "metadata": {},
   "outputs": [],
   "source": [
    "z = data6_3[['CREATEDDATE','DOMAIN__C', 'TOPIC__C', 'PARTICIPATION__C', 'OWNERID', 'ID','CASESAFE_ANSWER_ID__C' ]]"
   ]
  },
  {
   "cell_type": "code",
   "execution_count": null,
   "id": "af2b5672",
   "metadata": {
    "scrolled": false
   },
   "outputs": [],
   "source": [
    "year = []\n",
    "for x in z['CREATEDDATE']:\n",
    "    year.append(x[0:4])"
   ]
  },
  {
   "cell_type": "code",
   "execution_count": null,
   "id": "0215443e",
   "metadata": {},
   "outputs": [],
   "source": [
    "z['year'] = year\n",
    "z = z.drop('CREATEDDATE', axis = 1)"
   ]
  },
  {
   "cell_type": "code",
   "execution_count": null,
   "id": "ed4860eb",
   "metadata": {},
   "outputs": [],
   "source": [
    "z[z['CASESAFE_ANSWER_ID__C']== '0012000000AR3rtAAD']"
   ]
  },
  {
   "cell_type": "code",
   "execution_count": null,
   "id": "4e0d14c8",
   "metadata": {},
   "outputs": [],
   "source": []
  },
  {
   "cell_type": "code",
   "execution_count": null,
   "id": "f3eb5f2d",
   "metadata": {},
   "outputs": [],
   "source": []
  },
  {
   "cell_type": "code",
   "execution_count": null,
   "id": "530d9361",
   "metadata": {},
   "outputs": [],
   "source": [
    "data7 = pd.read_csv('EXP_PROD_Question_20220804.csv',sep=',')\n",
    "data7"
   ]
  },
  {
   "cell_type": "code",
   "execution_count": null,
   "id": "4e3be69b",
   "metadata": {},
   "outputs": [],
   "source": [
    "#droping the columns with more than 80% Nan's\n",
    "min_c =  int(((100-80)/100)*data7.shape[0] + 1)\n",
    "data7_1 = data7.dropna( axis=1, \n",
    "                thresh=min_c)"
   ]
  },
  {
   "cell_type": "code",
   "execution_count": null,
   "id": "9915437a",
   "metadata": {},
   "outputs": [],
   "source": [
    "#lost 30 colums\n",
    "data7_1.shape"
   ]
  },
  {
   "cell_type": "code",
   "execution_count": null,
   "id": "dda91c06",
   "metadata": {},
   "outputs": [],
   "source": [
    "#removing columns with redundant info (different languages)\n",
    "data7_2 = data7_1\n",
    "list_3 = ['QUESTION_DESCRIPTION_DUTCH__C',\n",
    "'QUESTION_DESCRIPTION_FLEMISH_DUTCH__C',\n",
    "'QUESTION_DESCRIPTION_FRENCH__C',\n",
    "'QUESTION_DESCRIPTION_GERMAN__C',\n",
    "'QUESTION_DESCRIPTION_ITALIAN__C',\n",
    "'QUESTION_DESCRIPTION_POLISH__C',\n",
    "'QUESTION_DESCRIPTION_PORTUGUESE__C',\n",
    "'QUESTION_DESCRIPTION_SIMPLIFIED_CHINESE__C',\n",
    "'QUESTION_DESCRIPTION_SPANISH__C',\n",
    "'QUESTION_HELP_TEXT_DUTCH__C',\n",
    "'QUESTION_HELP_TEXT_FLEMISH_DUTCH__C',\n",
    "'QUESTION_HELP_TEXT_FRENCH__C',\n",
    "'QUESTION_HELP_TEXT_GERMAN__C',\n",
    "'QUESTION_HELP_TEXT_ITALIAN__C',\n",
    "'QUESTION_HELP_TEXT_POLISH__C',\n",
    "'QUESTION_HELP_TEXT_PORTUGUESE__C',\n",
    "'QUESTION_HELP_TEXT_SIMPLIFIED_CHINESE__C',\n",
    "'QUESTION_HELP_TEXT_SPANISH__C',\n",
    "'QUESTION_TEXT_DUTCH__C',\n",
    "'QUESTION_TEXT_FLEMISH_DUTCH__C',\n",
    "'QUESTION_TEXT_FRENCH__C',\n",
    "'QUESTION_TEXT_GERMAN__C',\n",
    "'QUESTION_TEXT_ITALIAN__C',\n",
    "'QUESTION_TEXT_POLISH__C',\n",
    "'QUESTION_TEXT_PORTUGUESE__C',\n",
    "'QUESTION_TEXT_SIMPLIFIED_CHINESE__C',\n",
    "'QUESTION_TEXT_SPANISH__C']\n",
    "for x in list_3:\n",
    "    data7_2.drop(x,axis=1, inplace=True)"
   ]
  },
  {
   "cell_type": "code",
   "execution_count": null,
   "id": "9e1ea0a2",
   "metadata": {},
   "outputs": [],
   "source": [
    "#35 columns\n",
    "data7_2.shape"
   ]
  },
  {
   "cell_type": "code",
   "execution_count": null,
   "id": "33ed3ca0",
   "metadata": {},
   "outputs": [],
   "source": [
    "data7_3 = data7_2\n",
    "list_4 = ['CURRENCYISOCODE',\n",
    "'EXCLUDE_FROM_SELF_VALIDATION__C',\n",
    "'ISDELETED',\n",
    "'STATUS__C']\n",
    "for x in list_4:\n",
    "    print(data7_2[x].unique())\n",
    "    data7_3.drop(x, axis=1, inplace =True)"
   ]
  },
  {
   "cell_type": "code",
   "execution_count": null,
   "id": "184c6a27",
   "metadata": {},
   "outputs": [],
   "source": [
    "index_1 = list(data7_3[data7_3['SCORING__C'].isna() == True].index.values)\n",
    "index_2 = list(data7_3[data7_3['PROGRAMME__C'].isna() == True].index.values)\n",
    "index_1 == index_2"
   ]
  },
  {
   "cell_type": "code",
   "execution_count": null,
   "id": "ead33588",
   "metadata": {},
   "outputs": [],
   "source": [
    "a = data7_3['QUESTION_NUMBER__C']\n",
    "for x in a:\n",
    "    print(x)"
   ]
  },
  {
   "cell_type": "code",
   "execution_count": null,
   "id": "7beec7e5",
   "metadata": {},
   "outputs": [],
   "source": [
    "z = data7_3.isna().sum()\n",
    "for x in z:\n",
    "    print(x)"
   ]
  },
  {
   "cell_type": "code",
   "execution_count": null,
   "id": "5904ffe5",
   "metadata": {},
   "outputs": [],
   "source": [
    "data7_3.shape"
   ]
  },
  {
   "cell_type": "code",
   "execution_count": null,
   "id": "223e43f4",
   "metadata": {},
   "outputs": [],
   "source": [
    "data7_3.drop(['UAT_ID__C','UAT_NAME__C'],axis=1, inplace=True)"
   ]
  },
  {
   "cell_type": "code",
   "execution_count": null,
   "id": "a3256c90",
   "metadata": {},
   "outputs": [],
   "source": [
    "Ferreira = '''\n",
    " ____  ____  ____  ____  ____  ____  ____    __   \n",
    "( ___)( ___)(  _ \\(  _ \\( ___)(_  _)(  _ \\  /__\\  \n",
    " )__)  )__)  )   / )   / )__)  _)(_  )   / /(__)\\ \n",
    "(__)  (____)(_)\\_)(_)\\_)(____)(____)(_)\\_)(__)(__)'''"
   ]
  },
  {
   "cell_type": "code",
   "execution_count": null,
   "id": "8bb73676",
   "metadata": {},
   "outputs": [],
   "source": [
    "data7_3.drop(['CREATEDBYID','LASTMODIFIEDBYID','SYSTEMMODSTAMP'],axis=1, inplace=True)"
   ]
  },
  {
   "cell_type": "code",
   "execution_count": null,
   "id": "ab6a4285",
   "metadata": {},
   "outputs": [],
   "source": [
    "data7_3.to_csv('exe_prod_question_ferreira')"
   ]
  },
  {
   "cell_type": "code",
   "execution_count": null,
   "id": "b3a0fbd2",
   "metadata": {},
   "outputs": [],
   "source": []
  }
 ],
 "metadata": {
  "kernelspec": {
   "display_name": "Python 3 (ipykernel)",
   "language": "python",
   "name": "python3"
  },
  "language_info": {
   "codemirror_mode": {
    "name": "ipython",
    "version": 3
   },
   "file_extension": ".py",
   "mimetype": "text/x-python",
   "name": "python",
   "nbconvert_exporter": "python",
   "pygments_lexer": "ipython3",
   "version": "3.9.12"
  },
  "toc": {
   "base_numbering": 1,
   "nav_menu": {},
   "number_sections": true,
   "sideBar": true,
   "skip_h1_title": false,
   "title_cell": "Table of Contents",
   "title_sidebar": "Contents",
   "toc_cell": false,
   "toc_position": {},
   "toc_section_display": true,
   "toc_window_display": false
  }
 },
 "nbformat": 4,
 "nbformat_minor": 5
}
