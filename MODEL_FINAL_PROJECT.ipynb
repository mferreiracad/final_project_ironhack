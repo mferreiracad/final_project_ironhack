{
 "cells": [
  {
   "cell_type": "code",
   "execution_count": 116,
   "id": "e014dbf8",
   "metadata": {},
   "outputs": [],
   "source": [
    "import pandas as pd\n",
    "pd.set_option('display.max_columns', 500)"
   ]
  },
  {
   "cell_type": "code",
   "execution_count": 117,
   "id": "1bc2ea7d",
   "metadata": {},
   "outputs": [],
   "source": [
    "data = pd.read_csv('model')"
   ]
  },
  {
   "cell_type": "code",
   "execution_count": 118,
   "id": "24a8466a",
   "metadata": {},
   "outputs": [],
   "source": [
    "data = data.drop_duplicates()"
   ]
  },
  {
   "cell_type": "code",
   "execution_count": 119,
   "id": "41e584b1",
   "metadata": {},
   "outputs": [
    {
     "data": {
      "text/plain": [
       "(3167, 10)"
      ]
     },
     "execution_count": 119,
     "metadata": {},
     "output_type": "execute_result"
    }
   ],
   "source": [
    "data.shape"
   ]
  },
  {
   "cell_type": "code",
   "execution_count": 120,
   "id": "b372422b",
   "metadata": {},
   "outputs": [],
   "source": [
    "from bs4 import BeautifulSoup\n",
    "import requests"
   ]
  },
  {
   "cell_type": "code",
   "execution_count": 121,
   "id": "6a7da297",
   "metadata": {},
   "outputs": [],
   "source": [
    "url = \"https://worldpopulationreview.com/country-rankings/list-of-countries-by-continent\""
   ]
  },
  {
   "cell_type": "code",
   "execution_count": 122,
   "id": "d5cc5ad9",
   "metadata": {},
   "outputs": [
    {
     "data": {
      "text/plain": [
       "200"
      ]
     },
     "execution_count": 122,
     "metadata": {},
     "output_type": "execute_result"
    }
   ],
   "source": [
    "response = requests.get(url)\n",
    "response.status_code"
   ]
  },
  {
   "cell_type": "code",
   "execution_count": 123,
   "id": "2dcdefe1",
   "metadata": {},
   "outputs": [],
   "source": [
    "soup = BeautifulSoup(response.content, \"html.parser\")"
   ]
  },
  {
   "cell_type": "code",
   "execution_count": 124,
   "id": "e137429a",
   "metadata": {},
   "outputs": [],
   "source": [
    "a = soup.select(\"#dataTable > div.container.is-fluid.m-0 > div > div.column.is-8.is-clearfix.py-6 > div:nth-child(1) > div.datatable-container.undefined > table > tbody tr a\")\n",
    "b = soup.select(\"#dataTable > div.container.is-fluid.m-0 > div > div.column.is-8.is-clearfix.py-6 > div:nth-child(1) > div.datatable-container.undefined > table > tbody tr td:nth-child(2) \")"
   ]
  },
  {
   "cell_type": "code",
   "execution_count": 125,
   "id": "a8ac049c",
   "metadata": {},
   "outputs": [
    {
     "name": "stdout",
     "output_type": "stream",
     "text": [
      "['Africa', 'Africa', 'Africa', 'Africa', 'Africa', 'Africa', 'Africa', 'Africa', 'Africa', 'Africa', 'Africa', 'Africa', 'Africa', 'Africa', 'Africa', 'Africa', 'Africa', 'Africa', 'Africa', 'Africa', 'Africa', 'Africa', 'Africa', 'Africa', 'Africa', 'Africa', 'Africa', 'Africa', 'Africa', 'Africa', 'Africa', 'Africa', 'Africa', 'Africa', 'Africa', 'Africa', 'Africa', 'Africa', 'Africa', 'Africa', 'Africa', 'Africa', 'Africa', 'Africa', 'Africa', 'Africa', 'Africa', 'Africa', 'Africa', 'Africa', 'Africa', 'Africa', 'Africa', 'Africa', 'Africa', 'Africa', 'Africa', 'Asia', 'Asia', 'Asia', 'Asia', 'Asia', 'Asia', 'Asia', 'Asia', 'Asia', 'Asia', 'Asia', 'Asia', 'Asia', 'Asia', 'Asia', 'Asia', 'Asia', 'Asia', 'Asia', 'Asia', 'Asia', 'Asia', 'Asia', 'Asia', 'Asia', 'Asia', 'Asia', 'Asia', 'Asia', 'Asia', 'Asia', 'Asia', 'Asia', 'Asia', 'Asia', 'Asia', 'Asia', 'Asia', 'Asia', 'Asia', 'Asia', 'Asia', 'Asia', 'Asia', 'Asia', 'Asia', 'Asia', 'Asia', 'Asia', 'Asia', 'Europe', 'Europe', 'Europe', 'Europe', 'Europe', 'Europe', 'Europe', 'Europe', 'Europe', 'Europe', 'Europe', 'Europe', 'Europe', 'Europe', 'Europe', 'Europe', 'Europe', 'Europe', 'Europe', 'Europe', 'Europe', 'Europe', 'Europe', 'Europe', 'Europe', 'Europe', 'Europe', 'Europe', 'Europe', 'Europe', 'Europe', 'Europe', 'Europe', 'Europe', 'Europe', 'Europe', 'Europe', 'Europe', 'Europe', 'Europe', 'Europe', 'Europe', 'Europe', 'Europe', 'Europe', 'Europe', 'Europe', 'Europe', 'Europe', 'Europe', 'North America', 'North America', 'North America', 'North America', 'North America', 'North America', 'North America', 'North America', 'North America', 'North America', 'North America', 'North America', 'North America', 'North America', 'North America', 'North America', 'North America', 'North America', 'North America', 'North America', 'North America', 'North America', 'North America', 'North America', 'North America', 'North America', 'North America', 'North America', 'North America', 'North America', 'North America', 'North America', 'North America', 'North America', 'North America', 'North America', 'North America', 'North America', 'North America', 'North America', 'Oceania', 'Oceania', 'Oceania', 'Oceania', 'Oceania', 'Oceania', 'Oceania', 'Oceania', 'Oceania', 'Oceania', 'Oceania', 'Oceania', 'Oceania', 'Oceania', 'Oceania', 'Oceania', 'Oceania', 'Oceania', 'Oceania', 'Oceania', 'Oceania', 'Oceania', 'Oceania', 'South America', 'South America', 'South America', 'South America', 'South America', 'South America', 'South America', 'South America', 'South America', 'South America', 'South America', 'South America', 'South America', 'South America']\n"
     ]
    }
   ],
   "source": [
    "countries = []\n",
    "continents = []\n",
    "num_iter = len(a)\n",
    "num_iter2 = len(b)\n",
    "for i in range(num_iter):\n",
    "    name = a\n",
    "    countries.append(name[i].get_text())\n",
    "for i in range(num_iter2):\n",
    "    name = b\n",
    "    continents.append(name[i].get_text())\n",
    "print(continents)"
   ]
  },
  {
   "cell_type": "code",
   "execution_count": 126,
   "id": "232ad91f",
   "metadata": {},
   "outputs": [],
   "source": [
    "continents_countries = pd.DataFrame({\"countries\":countries,\n",
    "                              \"continents\":continents\n",
    "                             })"
   ]
  },
  {
   "cell_type": "code",
   "execution_count": 127,
   "id": "d8850dfb",
   "metadata": {},
   "outputs": [],
   "source": [
    "continents_countries =  dict(zip(continents_countries.countries, continents_countries.continents))\n",
    "data['Continent'] = data['COUNTRY__C'].map(continents_countries)"
   ]
  },
  {
   "cell_type": "code",
   "execution_count": 128,
   "id": "b7fcc6e5",
   "metadata": {},
   "outputs": [
    {
     "data": {
      "text/plain": [
       "234"
      ]
     },
     "execution_count": 128,
     "metadata": {},
     "output_type": "execute_result"
    }
   ],
   "source": [
    "len(countries)"
   ]
  },
  {
   "cell_type": "code",
   "execution_count": 129,
   "id": "b8eb0e70",
   "metadata": {},
   "outputs": [
    {
     "data": {
      "text/plain": [
       "OUTCOME_SURVEY__C       0\n",
       "COUNTRY__C              0\n",
       "COUNTRY_CATEGORY__C     0\n",
       "CURRENCYISOCODE_y       0\n",
       "Industries              0\n",
       "Number_countries        0\n",
       "Profitability           0\n",
       "Cust_satisf             0\n",
       "Global_headcount        0\n",
       "National_headcount      0\n",
       "Continent              35\n",
       "dtype: int64"
      ]
     },
     "execution_count": 129,
     "metadata": {},
     "output_type": "execute_result"
    }
   ],
   "source": [
    "data.isna().sum()"
   ]
  },
  {
   "cell_type": "code",
   "execution_count": 130,
   "id": "5f8fbad4",
   "metadata": {},
   "outputs": [],
   "source": [
    "t_correct = data[data['Continent'].isna()==True]"
   ]
  },
  {
   "cell_type": "code",
   "execution_count": 131,
   "id": "a8089a84",
   "metadata": {},
   "outputs": [
    {
     "name": "stdout",
     "output_type": "stream",
     "text": [
      "Algeria\n",
      "Angola\n",
      "Benin\n",
      "Botswana\n",
      "Burkina Faso\n",
      "Burundi\n",
      "Cameroon\n",
      "Cape Verde\n",
      "Central African Republic\n",
      "Chad\n",
      "Comoros\n",
      "Djibouti\n",
      "DR Congo\n",
      "Egypt\n",
      "Equatorial Guinea\n",
      "Eritrea\n",
      "Eswatini\n",
      "Ethiopia\n",
      "Gabon\n",
      "Gambia\n",
      "Ghana\n",
      "Guinea\n",
      "Guinea Bissau\n",
      "Ivory Coast\n",
      "Kenya\n",
      "Lesotho\n",
      "Liberia\n",
      "Libya\n",
      "Madagascar\n",
      "Malawi\n",
      "Mali\n",
      "Mauritania\n",
      "Mauritius\n",
      "Mayotte\n",
      "Morocco\n",
      "Mozambique\n",
      "Namibia\n",
      "Niger\n",
      "Nigeria\n",
      "Republic of the Congo\n",
      "Reunion\n",
      "Rwanda\n",
      "Sao Tome And Principe\n",
      "Senegal\n",
      "Seychelles\n",
      "Sierra Leone\n",
      "Somalia\n",
      "South Africa\n",
      "South Sudan\n",
      "Sudan\n",
      "Tanzania\n",
      "Togo\n",
      "Tunisia\n",
      "Uganda\n",
      "Western Sahara\n",
      "Zambia\n",
      "Zimbabwe\n",
      "Afghanistan\n",
      "Armenia\n",
      "Azerbaijan\n",
      "Bahrain\n",
      "Bangladesh\n",
      "Bhutan\n",
      "Brunei\n",
      "Cambodia\n",
      "China\n",
      "Georgia\n",
      "Hong Kong\n",
      "India\n",
      "Indonesia\n",
      "Iran\n",
      "Iraq\n",
      "Israel\n",
      "Japan\n",
      "Jordan\n",
      "Kazakhstan\n",
      "Kuwait\n",
      "Kyrgyzstan\n",
      "Laos\n",
      "Lebanon\n",
      "Macau\n",
      "Malaysia\n",
      "Maldives\n",
      "Mongolia\n",
      "Myanmar\n",
      "Nepal\n",
      "North Korea\n",
      "Oman\n",
      "Pakistan\n",
      "Palestine\n",
      "Philippines\n",
      "Qatar\n",
      "Saudi Arabia\n",
      "Singapore\n",
      "South Korea\n",
      "Sri Lanka\n",
      "Syria\n",
      "Taiwan\n",
      "Tajikistan\n",
      "Thailand\n",
      "Timor Leste\n",
      "Turkey\n",
      "Turkmenistan\n",
      "United Arab Emirates\n",
      "Uzbekistan\n",
      "Vietnam\n",
      "Yemen\n",
      "Albania\n",
      "Andorra\n",
      "Austria\n",
      "Belarus\n",
      "Belgium\n",
      "Bosnia And Herzegovina\n",
      "Bulgaria\n",
      "Croatia\n",
      "Cyprus\n",
      "Czech Republic\n",
      "Denmark\n",
      "Estonia\n",
      "Faroe Islands\n",
      "Finland\n",
      "France\n",
      "Germany\n",
      "Gibraltar\n",
      "Greece\n",
      "Guernsey\n",
      "Hungary\n",
      "Iceland\n",
      "Ireland\n",
      "Isle of Man\n",
      "Italy\n",
      "Jersey\n",
      "Latvia\n",
      "Liechtenstein\n",
      "Lithuania\n",
      "Luxembourg\n",
      "Malta\n",
      "Moldova\n",
      "Monaco\n",
      "Montenegro\n",
      "Netherlands\n",
      "North Macedonia\n",
      "Norway\n",
      "Poland\n",
      "Portugal\n",
      "Romania\n",
      "Russia\n",
      "San Marino\n",
      "Serbia\n",
      "Slovakia\n",
      "Slovenia\n",
      "Spain\n",
      "Sweden\n",
      "Switzerland\n",
      "Ukraine\n",
      "United Kingdom\n",
      "Vatican City\n",
      "Anguilla\n",
      "Antigua And Barbuda\n",
      "Aruba\n",
      "Bahamas\n",
      "Barbados\n",
      "Belize\n",
      "Bermuda\n",
      "British Virgin Islands\n",
      "Canada\n",
      "Cayman Islands\n",
      "Costa Rica\n",
      "Cuba\n",
      "Curacao\n",
      "Dominica\n",
      "Dominican Republic\n",
      "El Salvador\n",
      "Greenland\n",
      "Grenada\n",
      "Guadeloupe\n",
      "Guatemala\n",
      "Haiti\n",
      "Honduras\n",
      "Jamaica\n",
      "Martinique\n",
      "Mexico\n",
      "Montserrat\n",
      "Nicaragua\n",
      "Panama\n",
      "Puerto Rico\n",
      "Saint Barthelemy\n",
      "Saint Kitts And Nevis\n",
      "Saint Lucia\n",
      "Saint Martin\n",
      "Saint Pierre And Miquelon\n",
      "Saint Vincent And the Grenadines\n",
      "Sint Maarten\n",
      "Trinidad And Tobago\n",
      "Turks And Caicos Islands\n",
      "United States\n",
      "United States Virgin Islands\n",
      "American Samoa\n",
      "Australia\n",
      "Cook Islands\n",
      "Fiji\n",
      "French Polynesia\n",
      "Guam\n",
      "Kiribati\n",
      "Marshall Islands\n",
      "Micronesia\n",
      "Nauru\n",
      "New Caledonia\n",
      "New Zealand\n",
      "Niue\n",
      "Northern Mariana Islands\n",
      "Palau\n",
      "Papua New Guinea\n",
      "Samoa\n",
      "Solomon Islands\n",
      "Tokelau\n",
      "Tonga\n",
      "Tuvalu\n",
      "Vanuatu\n",
      "Wallis And Futuna\n",
      "Argentina\n",
      "Bolivia\n",
      "Brazil\n",
      "Chile\n",
      "Colombia\n",
      "Ecuador\n",
      "Falkland Islands\n",
      "French Guiana\n",
      "Guyana\n",
      "Paraguay\n",
      "Peru\n",
      "Suriname\n",
      "Uruguay\n",
      "Venezuela\n"
     ]
    }
   ],
   "source": [
    "for x in countries:\n",
    "    print(x)"
   ]
  },
  {
   "cell_type": "code",
   "execution_count": 132,
   "id": "4213a2f0",
   "metadata": {},
   "outputs": [
    {
     "data": {
      "text/plain": [
       "Korea, South                  12\n",
       "Hong Kong, China               9\n",
       "Cote d'Ivoire                  6\n",
       "Congo, Democratic Republic     4\n",
       "Taiwan, China                  2\n",
       "Macedonia                      2\n",
       "Name: COUNTRY__C, dtype: int64"
      ]
     },
     "execution_count": 132,
     "metadata": {},
     "output_type": "execute_result"
    }
   ],
   "source": [
    "t_correct.COUNTRY__C.value_counts()"
   ]
  },
  {
   "cell_type": "code",
   "execution_count": 133,
   "id": "90ccafae",
   "metadata": {},
   "outputs": [],
   "source": [
    "import numpy as np\n",
    "data.loc[data['COUNTRY__C'] == 'Korea, South', 'COUNTRY__C'] = 'South Korea'\n",
    "data.loc[data['COUNTRY__C'] == 'Hong Kong, China', 'COUNTRY__C'] = 'Hong Kong'\n",
    "data.loc[data['COUNTRY__C'] == \"Cote d'Ivoire\", 'COUNTRY__C'] = 'Ivory Coast'\n",
    "data.loc[data['COUNTRY__C'] == 'Congo, Democratic Republic', 'COUNTRY__C'] = 'Republic of the Congo'\n",
    "data.loc[data['COUNTRY__C'] == 'Taiwan, China', 'COUNTRY__C'] = 'Taiwan'\n",
    "data.loc[data['COUNTRY__C'] == 'Macedonia', 'COUNTRY__C'] = 'North Macedonia'\n",
    "data.loc[data['OUTCOME_SURVEY__C'] == 'PASS', 'OUTCOME_SURVEY__C'] = 1\n",
    "data.loc[data['OUTCOME_SURVEY__C'] == 'FAIL', 'OUTCOME_SURVEY__C'] = 0\n",
    "data['OUTCOME_SURVEY__C']= data['OUTCOME_SURVEY__C'].astype(np.number)"
   ]
  },
  {
   "cell_type": "code",
   "execution_count": 134,
   "id": "a550d1f2",
   "metadata": {},
   "outputs": [],
   "source": [
    "data['Continent'] = data['COUNTRY__C'].map(continents_countries)"
   ]
  },
  {
   "cell_type": "code",
   "execution_count": 135,
   "id": "f84d3e1a",
   "metadata": {},
   "outputs": [
    {
     "data": {
      "text/plain": [
       "OUTCOME_SURVEY__C      0\n",
       "COUNTRY__C             0\n",
       "COUNTRY_CATEGORY__C    0\n",
       "CURRENCYISOCODE_y      0\n",
       "Industries             0\n",
       "Number_countries       0\n",
       "Profitability          0\n",
       "Cust_satisf            0\n",
       "Global_headcount       0\n",
       "National_headcount     0\n",
       "Continent              0\n",
       "dtype: int64"
      ]
     },
     "execution_count": 135,
     "metadata": {},
     "output_type": "execute_result"
    }
   ],
   "source": [
    "data.isna().sum()"
   ]
  },
  {
   "cell_type": "code",
   "execution_count": 136,
   "id": "134ace23",
   "metadata": {
    "scrolled": true
   },
   "outputs": [
    {
     "name": "stdout",
     "output_type": "stream",
     "text": [
      "<class 'pandas.core.frame.DataFrame'>\n",
      "Int64Index: 3167 entries, 0 to 1158584\n",
      "Data columns (total 10 columns):\n",
      " #   Column               Non-Null Count  Dtype  \n",
      "---  ------               --------------  -----  \n",
      " 0   OUTCOME_SURVEY__C    3167 non-null   float64\n",
      " 1   COUNTRY__C           3167 non-null   object \n",
      " 2   COUNTRY_CATEGORY__C  3167 non-null   object \n",
      " 3   CURRENCYISOCODE_y    3167 non-null   object \n",
      " 4   Number_countries     3167 non-null   float64\n",
      " 5   Profitability        3167 non-null   object \n",
      " 6   Cust_satisf          3167 non-null   object \n",
      " 7   Global_headcount     3167 non-null   float64\n",
      " 8   National_headcount   3167 non-null   float64\n",
      " 9   Continent            3167 non-null   object \n",
      "dtypes: float64(4), object(6)\n",
      "memory usage: 272.2+ KB\n"
     ]
    }
   ],
   "source": [
    "data.drop('Industries',axis=1, inplace=True)\n",
    "data.info()"
   ]
  },
  {
   "cell_type": "code",
   "execution_count": 180,
   "id": "30030876",
   "metadata": {},
   "outputs": [
    {
     "data": {
      "text/plain": [
       "Core                2019\n",
       "Emerging markets     790\n",
       "Focus markets        358\n",
       "Name: COUNTRY_CATEGORY__C, dtype: int64"
      ]
     },
     "execution_count": 180,
     "metadata": {},
     "output_type": "execute_result"
    }
   ],
   "source": [
    "data.COUNTRY_CATEGORY__C.value_counts()"
   ]
  },
  {
   "cell_type": "code",
   "execution_count": 137,
   "id": "f7dc45bb",
   "metadata": {},
   "outputs": [
    {
     "data": {
      "text/plain": [
       "<AxesSubplot:>"
      ]
     },
     "execution_count": 137,
     "metadata": {},
     "output_type": "execute_result"
    },
    {
     "data": {
      "image/png": "[encoded data removed]",
      "text/plain": [
       "<Figure size 432x288 with 2 Axes>"
      ]
     },
     "metadata": {
      "needs_background": "light"
     },
     "output_type": "display_data"
    }
   ],
   "source": [
    "import seaborn as sns\n",
    "correl_matrix_cont = data.corr()\n",
    "sns.heatmap(correl_matrix_cont,annot=True)"
   ]
  },
  {
   "cell_type": "code",
   "execution_count": 138,
   "id": "085cba71",
   "metadata": {},
   "outputs": [],
   "source": [
    "data.to_csv('final_data.csv', index= False)"
   ]
  },
  {
   "cell_type": "code",
   "execution_count": 139,
   "id": "3fda34d6",
   "metadata": {},
   "outputs": [],
   "source": [
    "data.drop('COUNTRY__C',axis=1, inplace=True)"
   ]
  },
  {
   "cell_type": "code",
   "execution_count": 140,
   "id": "1df8b05b",
   "metadata": {},
   "outputs": [
    {
     "data": {
      "text/plain": [
       "(3167, 9)"
      ]
     },
     "execution_count": 140,
     "metadata": {},
     "output_type": "execute_result"
    }
   ],
   "source": [
    "data.shape"
   ]
  },
  {
   "cell_type": "code",
   "execution_count": 141,
   "id": "2986bb1a",
   "metadata": {},
   "outputs": [
    {
     "data": {
      "text/plain": [
       "1.0    3136\n",
       "0.0      31\n",
       "Name: OUTCOME_SURVEY__C, dtype: int64"
      ]
     },
     "execution_count": 141,
     "metadata": {},
     "output_type": "execute_result"
    }
   ],
   "source": [
    "data.OUTCOME_SURVEY__C.value_counts()"
   ]
  },
  {
   "cell_type": "code",
   "execution_count": 142,
   "id": "71f11670",
   "metadata": {},
   "outputs": [],
   "source": [
    "X = data.drop('OUTCOME_SURVEY__C',axis=1)\n",
    "y = data['OUTCOME_SURVEY__C']\n",
    "from sklearn.model_selection import train_test_split\n",
    "X_train, X_test, y_train, y_test = train_test_split(X, y, test_size=0.2)"
   ]
  },
  {
   "cell_type": "code",
   "execution_count": 143,
   "id": "6e80b425",
   "metadata": {},
   "outputs": [],
   "source": [
    "imbalance = pd.concat([X_train,y_train],axis=1)"
   ]
  },
  {
   "cell_type": "code",
   "execution_count": 144,
   "id": "99aa8ab4",
   "metadata": {},
   "outputs": [],
   "source": [
    "from sklearn.utils import resample\n",
    "s_pass = imbalance[imbalance['OUTCOME_SURVEY__C'] == 1]\n",
    "s_fail = imbalance[imbalance['OUTCOME_SURVEY__C'] == 0]"
   ]
  },
  {
   "cell_type": "code",
   "execution_count": 145,
   "id": "897bf705",
   "metadata": {},
   "outputs": [],
   "source": [
    "fail_oversampled = resample(s_fail,replace=True,n_samples = len(s_pass),random_state=0)"
   ]
  },
  {
   "cell_type": "code",
   "execution_count": 146,
   "id": "4bdfa229",
   "metadata": {},
   "outputs": [
    {
     "data": {
      "text/plain": [
       "(2506, 9)"
      ]
     },
     "metadata": {},
     "output_type": "display_data"
    },
    {
     "data": {
      "text/plain": [
       "(2506, 9)"
      ]
     },
     "metadata": {},
     "output_type": "display_data"
    }
   ],
   "source": [
    "display(s_pass.shape)\n",
    "display(fail_oversampled.shape)"
   ]
  },
  {
   "cell_type": "code",
   "execution_count": 147,
   "id": "ba73fd88",
   "metadata": {},
   "outputs": [],
   "source": [
    "imbalance = pd.concat([fail_oversampled,s_pass],axis=0)"
   ]
  },
  {
   "cell_type": "code",
   "execution_count": 148,
   "id": "6a1e6725",
   "metadata": {},
   "outputs": [],
   "source": [
    "imbalance = imbalance.sample(frac=1)"
   ]
  },
  {
   "cell_type": "code",
   "execution_count": 149,
   "id": "521116d6",
   "metadata": {},
   "outputs": [],
   "source": [
    "y_train = imbalance['OUTCOME_SURVEY__C']\n",
    "X_train = imbalance.drop('OUTCOME_SURVEY__C',axis = 1)"
   ]
  },
  {
   "cell_type": "code",
   "execution_count": 150,
   "id": "d11ed7d8",
   "metadata": {},
   "outputs": [],
   "source": [
    "import numpy as np\n",
    "x_train_numerical = X_train.select_dtypes(np.number)\n",
    "x_train_categorical = X_train.select_dtypes(object)\n",
    "\n",
    "x_test_numerical = X_test.select_dtypes(np.number)\n",
    "x_test_categorical = X_test.select_dtypes(object)"
   ]
  },
  {
   "cell_type": "code",
   "execution_count": 151,
   "id": "346a7fbb",
   "metadata": {},
   "outputs": [],
   "source": [
    "from sklearn.preprocessing import MinMaxScaler\n",
    "transformer = MinMaxScaler().fit(x_train_numerical)\n",
    "normalized = transformer.transform(x_train_numerical)\n",
    "normalized_x_train = pd.DataFrame(normalized,columns=x_train_numerical.columns)"
   ]
  },
  {
   "cell_type": "code",
   "execution_count": 152,
   "id": "9f1ab19a",
   "metadata": {},
   "outputs": [],
   "source": [
    "normalized = transformer.transform(x_test_numerical)\n",
    "normalized_x_test = pd.DataFrame(normalized,columns=x_test_numerical.columns)"
   ]
  },
  {
   "cell_type": "code",
   "execution_count": 153,
   "id": "b5fd2ff2",
   "metadata": {},
   "outputs": [
    {
     "name": "stderr",
     "output_type": "stream",
     "text": [
      "/Users/miguel/opt/anaconda3/lib/python3.9/site-packages/sklearn/utils/deprecation.py:87: FutureWarning: Function get_feature_names is deprecated; get_feature_names is deprecated in 1.0 and will be removed in 1.2. Please use get_feature_names_out instead.\n",
      "  warnings.warn(msg, category=FutureWarning)\n"
     ]
    }
   ],
   "source": [
    "from sklearn.preprocessing import OneHotEncoder\n",
    "encoder = OneHotEncoder(drop='first').fit(x_train_categorical)\n",
    "encoded_onehot = encoder.transform(x_train_categorical).toarray()\n",
    "cols = encoder.get_feature_names(input_features=x_train_categorical.columns)\n",
    "onehot_encoded_train = pd.DataFrame(encoded_onehot, columns=cols)"
   ]
  },
  {
   "cell_type": "code",
   "execution_count": 154,
   "id": "a89dccd8",
   "metadata": {},
   "outputs": [
    {
     "name": "stderr",
     "output_type": "stream",
     "text": [
      "/Users/miguel/opt/anaconda3/lib/python3.9/site-packages/sklearn/utils/deprecation.py:87: FutureWarning: Function get_feature_names is deprecated; get_feature_names is deprecated in 1.0 and will be removed in 1.2. Please use get_feature_names_out instead.\n",
      "  warnings.warn(msg, category=FutureWarning)\n"
     ]
    }
   ],
   "source": [
    "encoded_onehot = encoder.transform(x_test_categorical).toarray()\n",
    "cols = encoder.get_feature_names(input_features=x_test_categorical.columns)\n",
    "onehot_encoded_test = pd.DataFrame(encoded_onehot, columns=cols)"
   ]
  },
  {
   "cell_type": "code",
   "execution_count": 155,
   "id": "d2f6e462",
   "metadata": {},
   "outputs": [],
   "source": [
    "X_train = pd.concat([normalized_x_train,onehot_encoded_train],axis=1)\n",
    "X_test = pd.concat([normalized_x_test,onehot_encoded_test],axis=1)"
   ]
  },
  {
   "cell_type": "code",
   "execution_count": 156,
   "id": "043d5dcd",
   "metadata": {},
   "outputs": [
    {
     "data": {
      "text/plain": [
       "0"
      ]
     },
     "execution_count": 156,
     "metadata": {},
     "output_type": "execute_result"
    }
   ],
   "source": [
    "X_train.isna().sum().sum()"
   ]
  },
  {
   "cell_type": "code",
   "execution_count": 157,
   "id": "2f3cda68",
   "metadata": {},
   "outputs": [
    {
     "data": {
      "text/plain": [
       "0"
      ]
     },
     "execution_count": 157,
     "metadata": {},
     "output_type": "execute_result"
    }
   ],
   "source": [
    "X_test.isna().sum().sum()"
   ]
  },
  {
   "cell_type": "code",
   "execution_count": 158,
   "id": "4e0c3ff1",
   "metadata": {},
   "outputs": [
    {
     "data": {
      "text/plain": [
       "0"
      ]
     },
     "execution_count": 158,
     "metadata": {},
     "output_type": "execute_result"
    }
   ],
   "source": [
    "y_train.isna().sum()"
   ]
  },
  {
   "cell_type": "code",
   "execution_count": 159,
   "id": "23cf6360",
   "metadata": {},
   "outputs": [
    {
     "data": {
      "text/plain": [
       "0"
      ]
     },
     "execution_count": 159,
     "metadata": {},
     "output_type": "execute_result"
    }
   ],
   "source": [
    "y_test.isna().sum().sum()"
   ]
  },
  {
   "cell_type": "code",
   "execution_count": 160,
   "id": "a2d08b58",
   "metadata": {},
   "outputs": [],
   "source": [
    "X_train.to_csv('x_train',index=False)\n",
    "X_test.to_csv('x_test',index=False)"
   ]
  },
  {
   "cell_type": "code",
   "execution_count": 161,
   "id": "6cd9dcb2",
   "metadata": {},
   "outputs": [
    {
     "data": {
      "text/html": [
       "<style>#sk-container-id-4 {color: black;background-color: white;}#sk-container-id-4 pre{padding: 0;}#sk-container-id-4 div.sk-toggleable {background-color: white;}#sk-container-id-4 label.sk-toggleable__label {cursor: pointer;display: block;width: 100%;margin-bottom: 0;padding: 0.3em;box-sizing: border-box;text-align: center;}#sk-container-id-4 label.sk-toggleable__label-arrow:before {content: \"▸\";float: left;margin-right: 0.25em;color: #696969;}#sk-container-id-4 label.sk-toggleable__label-arrow:hover:before {color: black;}#sk-container-id-4 div.sk-estimator:hover label.sk-toggleable__label-arrow:before {color: black;}#sk-container-id-4 div.sk-toggleable__content {max-height: 0;max-width: 0;overflow: hidden;text-align: left;background-color: #f0f8ff;}#sk-container-id-4 div.sk-toggleable__content pre {margin: 0.2em;color: black;border-radius: 0.25em;background-color: #f0f8ff;}#sk-container-id-4 input.sk-toggleable__control:checked~div.sk-toggleable__content {max-height: 200px;max-width: 100%;overflow: auto;}#sk-container-id-4 input.sk-toggleable__control:checked~label.sk-toggleable__label-arrow:before {content: \"▾\";}#sk-container-id-4 div.sk-estimator input.sk-toggleable__control:checked~label.sk-toggleable__label {background-color: #d4ebff;}#sk-container-id-4 div.sk-label input.sk-toggleable__control:checked~label.sk-toggleable__label {background-color: #d4ebff;}#sk-container-id-4 input.sk-hidden--visually {border: 0;clip: rect(1px 1px 1px 1px);clip: rect(1px, 1px, 1px, 1px);height: 1px;margin: -1px;overflow: hidden;padding: 0;position: absolute;width: 1px;}#sk-container-id-4 div.sk-estimator {font-family: monospace;background-color: #f0f8ff;border: 1px dotted black;border-radius: 0.25em;box-sizing: border-box;margin-bottom: 0.5em;}#sk-container-id-4 div.sk-estimator:hover {background-color: #d4ebff;}#sk-container-id-4 div.sk-parallel-item::after {content: \"\";width: 100%;border-bottom: 1px solid gray;flex-grow: 1;}#sk-container-id-4 div.sk-label:hover label.sk-toggleable__label {background-color: #d4ebff;}#sk-container-id-4 div.sk-serial::before {content: \"\";position: absolute;border-left: 1px solid gray;box-sizing: border-box;top: 0;bottom: 0;left: 50%;z-index: 0;}#sk-container-id-4 div.sk-serial {display: flex;flex-direction: column;align-items: center;background-color: white;padding-right: 0.2em;padding-left: 0.2em;position: relative;}#sk-container-id-4 div.sk-item {position: relative;z-index: 1;}#sk-container-id-4 div.sk-parallel {display: flex;align-items: stretch;justify-content: center;background-color: white;position: relative;}#sk-container-id-4 div.sk-item::before, #sk-container-id-4 div.sk-parallel-item::before {content: \"\";position: absolute;border-left: 1px solid gray;box-sizing: border-box;top: 0;bottom: 0;left: 50%;z-index: -1;}#sk-container-id-4 div.sk-parallel-item {display: flex;flex-direction: column;z-index: 1;position: relative;background-color: white;}#sk-container-id-4 div.sk-parallel-item:first-child::after {align-self: flex-end;width: 50%;}#sk-container-id-4 div.sk-parallel-item:last-child::after {align-self: flex-start;width: 50%;}#sk-container-id-4 div.sk-parallel-item:only-child::after {width: 0;}#sk-container-id-4 div.sk-dashed-wrapped {border: 1px dashed gray;margin: 0 0.4em 0.5em 0.4em;box-sizing: border-box;padding-bottom: 0.4em;background-color: white;}#sk-container-id-4 div.sk-label label {font-family: monospace;font-weight: bold;display: inline-block;line-height: 1.2em;}#sk-container-id-4 div.sk-label-container {text-align: center;}#sk-container-id-4 div.sk-container {/* jupyter's `normalize.less` sets `[hidden] { display: none; }` but bootstrap.min.css set `[hidden] { display: none !important; }` so we also need the `!important` here to be able to override the default hidden behavior on the sphinx rendered scikit-learn.org. See: https://github.com/scikit-learn/scikit-learn/issues/21755 */display: inline-block !important;position: relative;}#sk-container-id-4 div.sk-text-repr-fallback {display: none;}</style><div id=\"sk-container-id-4\" class=\"sk-top-container\"><div class=\"sk-text-repr-fallback\"><pre>DecisionTreeClassifier(max_depth=6)</pre><b>In a Jupyter environment, please rerun this cell to show the HTML representation or trust the notebook. <br />On GitHub, the HTML representation is unable to render, please try loading this page with nbviewer.org.</b></div><div class=\"sk-container\" hidden><div class=\"sk-item\"><div class=\"sk-estimator sk-toggleable\"><input class=\"sk-toggleable__control sk-hidden--visually\" id=\"sk-estimator-id-4\" type=\"checkbox\" checked><label for=\"sk-estimator-id-4\" class=\"sk-toggleable__label sk-toggleable__label-arrow\">DecisionTreeClassifier</label><div class=\"sk-toggleable__content\"><pre>DecisionTreeClassifier(max_depth=6)</pre></div></div></div></div></div>"
      ],
      "text/plain": [
       "DecisionTreeClassifier(max_depth=6)"
      ]
     },
     "execution_count": 161,
     "metadata": {},
     "output_type": "execute_result"
    }
   ],
   "source": [
    "from sklearn.tree import DecisionTreeClassifier\n",
    "model = DecisionTreeClassifier(max_depth=6)\n",
    "model.fit(X_train, y_train)"
   ]
  },
  {
   "cell_type": "code",
   "execution_count": 162,
   "id": "4bd73dcb",
   "metadata": {},
   "outputs": [
    {
     "name": "stdout",
     "output_type": "stream",
     "text": [
      "test data accuracy was  0.917981072555205\n",
      "train data accuracy was  0.9555067837190743\n"
     ]
    }
   ],
   "source": [
    "print(\"test data accuracy was \",model.score(X_test,y_test))\n",
    "\n",
    "print(\"train data accuracy was \",model.score(X_train,y_train))"
   ]
  },
  {
   "cell_type": "code",
   "execution_count": 163,
   "id": "5ab54523",
   "metadata": {},
   "outputs": [],
   "source": [
    "max_depth = range(1,30)\n",
    "test = []\n",
    "train = []\n",
    "\n",
    "for depth in max_depth:\n",
    "    model = DecisionTreeClassifier(max_depth=depth, random_state=0)\n",
    "    model.fit(X_train, y_train)\n",
    "    test.append(model.score(X_test,y_test))\n",
    "    train.append(model.score(X_train,y_train))"
   ]
  },
  {
   "cell_type": "code",
   "execution_count": 164,
   "id": "3cc9e38d",
   "metadata": {},
   "outputs": [
    {
     "data": {
      "text/plain": [
       "<matplotlib.legend.Legend at 0x7fa697a2b5e0>"
      ]
     },
     "execution_count": 164,
     "metadata": {},
     "output_type": "execute_result"
    },
    {
     "data": {
      "image/png": "[encoded data removed]",
      "text/plain": [
       "<Figure size 432x288 with 1 Axes>"
      ]
     },
     "metadata": {
      "needs_background": "light"
     },
     "output_type": "display_data"
    }
   ],
   "source": [
    "import matplotlib.pyplot as plt\n",
    "%matplotlib inline\n",
    "plt.plot( train, label=\"training accuracy\")\n",
    "plt.plot( test, label=\"test accuracy\")\n",
    "plt.ylabel(\"Accuracy\")\n",
    "plt.xlabel(\"n_depth-1\")\n",
    "plt.legend()"
   ]
  },
  {
   "cell_type": "code",
   "execution_count": 172,
   "id": "ae96263d",
   "metadata": {},
   "outputs": [
    {
     "data": {
      "text/html": [
       "<style>#sk-container-id-6 {color: black;background-color: white;}#sk-container-id-6 pre{padding: 0;}#sk-container-id-6 div.sk-toggleable {background-color: white;}#sk-container-id-6 label.sk-toggleable__label {cursor: pointer;display: block;width: 100%;margin-bottom: 0;padding: 0.3em;box-sizing: border-box;text-align: center;}#sk-container-id-6 label.sk-toggleable__label-arrow:before {content: \"▸\";float: left;margin-right: 0.25em;color: #696969;}#sk-container-id-6 label.sk-toggleable__label-arrow:hover:before {color: black;}#sk-container-id-6 div.sk-estimator:hover label.sk-toggleable__label-arrow:before {color: black;}#sk-container-id-6 div.sk-toggleable__content {max-height: 0;max-width: 0;overflow: hidden;text-align: left;background-color: #f0f8ff;}#sk-container-id-6 div.sk-toggleable__content pre {margin: 0.2em;color: black;border-radius: 0.25em;background-color: #f0f8ff;}#sk-container-id-6 input.sk-toggleable__control:checked~div.sk-toggleable__content {max-height: 200px;max-width: 100%;overflow: auto;}#sk-container-id-6 input.sk-toggleable__control:checked~label.sk-toggleable__label-arrow:before {content: \"▾\";}#sk-container-id-6 div.sk-estimator input.sk-toggleable__control:checked~label.sk-toggleable__label {background-color: #d4ebff;}#sk-container-id-6 div.sk-label input.sk-toggleable__control:checked~label.sk-toggleable__label {background-color: #d4ebff;}#sk-container-id-6 input.sk-hidden--visually {border: 0;clip: rect(1px 1px 1px 1px);clip: rect(1px, 1px, 1px, 1px);height: 1px;margin: -1px;overflow: hidden;padding: 0;position: absolute;width: 1px;}#sk-container-id-6 div.sk-estimator {font-family: monospace;background-color: #f0f8ff;border: 1px dotted black;border-radius: 0.25em;box-sizing: border-box;margin-bottom: 0.5em;}#sk-container-id-6 div.sk-estimator:hover {background-color: #d4ebff;}#sk-container-id-6 div.sk-parallel-item::after {content: \"\";width: 100%;border-bottom: 1px solid gray;flex-grow: 1;}#sk-container-id-6 div.sk-label:hover label.sk-toggleable__label {background-color: #d4ebff;}#sk-container-id-6 div.sk-serial::before {content: \"\";position: absolute;border-left: 1px solid gray;box-sizing: border-box;top: 0;bottom: 0;left: 50%;z-index: 0;}#sk-container-id-6 div.sk-serial {display: flex;flex-direction: column;align-items: center;background-color: white;padding-right: 0.2em;padding-left: 0.2em;position: relative;}#sk-container-id-6 div.sk-item {position: relative;z-index: 1;}#sk-container-id-6 div.sk-parallel {display: flex;align-items: stretch;justify-content: center;background-color: white;position: relative;}#sk-container-id-6 div.sk-item::before, #sk-container-id-6 div.sk-parallel-item::before {content: \"\";position: absolute;border-left: 1px solid gray;box-sizing: border-box;top: 0;bottom: 0;left: 50%;z-index: -1;}#sk-container-id-6 div.sk-parallel-item {display: flex;flex-direction: column;z-index: 1;position: relative;background-color: white;}#sk-container-id-6 div.sk-parallel-item:first-child::after {align-self: flex-end;width: 50%;}#sk-container-id-6 div.sk-parallel-item:last-child::after {align-self: flex-start;width: 50%;}#sk-container-id-6 div.sk-parallel-item:only-child::after {width: 0;}#sk-container-id-6 div.sk-dashed-wrapped {border: 1px dashed gray;margin: 0 0.4em 0.5em 0.4em;box-sizing: border-box;padding-bottom: 0.4em;background-color: white;}#sk-container-id-6 div.sk-label label {font-family: monospace;font-weight: bold;display: inline-block;line-height: 1.2em;}#sk-container-id-6 div.sk-label-container {text-align: center;}#sk-container-id-6 div.sk-container {/* jupyter's `normalize.less` sets `[hidden] { display: none; }` but bootstrap.min.css set `[hidden] { display: none !important; }` so we also need the `!important` here to be able to override the default hidden behavior on the sphinx rendered scikit-learn.org. See: https://github.com/scikit-learn/scikit-learn/issues/21755 */display: inline-block !important;position: relative;}#sk-container-id-6 div.sk-text-repr-fallback {display: none;}</style><div id=\"sk-container-id-6\" class=\"sk-top-container\"><div class=\"sk-text-repr-fallback\"><pre>DecisionTreeClassifier(max_depth=5)</pre><b>In a Jupyter environment, please rerun this cell to show the HTML representation or trust the notebook. <br />On GitHub, the HTML representation is unable to render, please try loading this page with nbviewer.org.</b></div><div class=\"sk-container\" hidden><div class=\"sk-item\"><div class=\"sk-estimator sk-toggleable\"><input class=\"sk-toggleable__control sk-hidden--visually\" id=\"sk-estimator-id-6\" type=\"checkbox\" checked><label for=\"sk-estimator-id-6\" class=\"sk-toggleable__label sk-toggleable__label-arrow\">DecisionTreeClassifier</label><div class=\"sk-toggleable__content\"><pre>DecisionTreeClassifier(max_depth=5)</pre></div></div></div></div></div>"
      ],
      "text/plain": [
       "DecisionTreeClassifier(max_depth=5)"
      ]
     },
     "execution_count": 172,
     "metadata": {},
     "output_type": "execute_result"
    }
   ],
   "source": [
    "model = DecisionTreeClassifier(max_depth = 5)\n",
    "model.fit(X_train, y_train)"
   ]
  },
  {
   "cell_type": "code",
   "execution_count": 173,
   "id": "690df4e3",
   "metadata": {},
   "outputs": [
    {
     "name": "stdout",
     "output_type": "stream",
     "text": [
      "test data accuracy was  0.8675078864353313\n",
      "train data accuracy was  0.9375498802873105\n"
     ]
    }
   ],
   "source": [
    "print(\"test data accuracy was \",model.score(X_test,y_test))\n",
    "\n",
    "print(\"train data accuracy was \",model.score(X_train,y_train))"
   ]
  },
  {
   "cell_type": "code",
   "execution_count": 174,
   "id": "f006f68c",
   "metadata": {},
   "outputs": [],
   "source": [
    "list_pred = model.predict(X_test)\n",
    "list_test = y_test.to_list()\n"
   ]
  },
  {
   "cell_type": "code",
   "execution_count": 175,
   "id": "d590135b",
   "metadata": {},
   "outputs": [
    {
     "data": {
      "image/png": "[encoded data removed]",
      "text/plain": [
       "<Figure size 432x288 with 1 Axes>"
      ]
     },
     "metadata": {
      "needs_background": "light"
     },
     "output_type": "display_data"
    }
   ],
   "source": [
    "from sklearn import metrics\n",
    "import matplotlib.pyplot as plt\n",
    "confusion_matrix = metrics.confusion_matrix(list_test, list_pred)\n",
    "cm_display = metrics.ConfusionMatrixDisplay(confusion_matrix = confusion_matrix, display_labels = [False, True])\n",
    "cm_display.plot(cmap = 'GnBu',colorbar=False)\n",
    "plt.show()"
   ]
  },
  {
   "cell_type": "code",
   "execution_count": 178,
   "id": "2e588fc8",
   "metadata": {},
   "outputs": [
    {
     "data": {
      "text/plain": [
       "<AxesSubplot:>"
      ]
     },
     "execution_count": 178,
     "metadata": {},
     "output_type": "execute_result"
    },
    {
     "data": {
      "image/png": "[encoded data removed]",
      "text/plain": [
       "<Figure size 432x288 with 3 Axes>"
      ]
     },
     "metadata": {
      "needs_background": "light"
     },
     "output_type": "display_data"
    }
   ],
   "source": [
    "import seaborn as sns\n",
    "sns.heatmap(confusion_matrix, annot=True)\n",
    "group_names = ['True Neg','False Pos','False Neg','True Pos']\n",
    "group_counts = ['{0:0.0f}'.format(value) for value in\n",
    "                confusion_matrix.flatten()]\n",
    "group_percentages = ['{0:.2%}'.format(value) for value in\n",
    "                     confusion_matrix.flatten()/np.sum(confusion_matrix)]\n",
    "labels = [f'{v1}\\n{v2}\\n{v3}' for v1, v2, v3 in\n",
    "          zip(group_names,group_counts,group_percentages)]\n",
    "labels = np.asarray(labels).reshape(2,2)\n",
    "sns.heatmap(confusion_matrix, annot=labels, fmt='', cmap='Blues')"
   ]
  },
  {
   "cell_type": "code",
   "execution_count": 181,
   "id": "75dba7f7",
   "metadata": {},
   "outputs": [
    {
     "data": {
      "text/plain": [
       "1.0    3136\n",
       "0.0      31\n",
       "Name: OUTCOME_SURVEY__C, dtype: int64"
      ]
     },
     "execution_count": 181,
     "metadata": {},
     "output_type": "execute_result"
    }
   ],
   "source": [
    "data.OUTCOME_SURVEY__C.value_counts()"
   ]
  },
  {
   "cell_type": "code",
   "execution_count": null,
   "id": "b42ccb86",
   "metadata": {},
   "outputs": [],
   "source": []
  }
 ],
 "metadata": {
  "kernelspec": {
   "display_name": "Python 3 (ipykernel)",
   "language": "python",
   "name": "python3"
  },
  "language_info": {
   "codemirror_mode": {
    "name": "ipython",
    "version": 3
   },
   "file_extension": ".py",
   "mimetype": "text/x-python",
   "name": "python",
   "nbconvert_exporter": "python",
   "pygments_lexer": "ipython3",
   "version": "3.9.12"
  },
  "toc": {
   "base_numbering": 1,
   "nav_menu": {},
   "number_sections": true,
   "sideBar": true,
   "skip_h1_title": false,
   "title_cell": "Table of Contents",
   "title_sidebar": "Contents",
   "toc_cell": false,
   "toc_position": {},
   "toc_section_display": true,
   "toc_window_display": false
  }
 },
 "nbformat": 4,
 "nbformat_minor": 5
}
